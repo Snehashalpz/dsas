{
 "cells": [
  {
   "cell_type": "markdown",
   "id": "2f7f6005",
   "metadata": {},
   "source": [
    "# DATA STRUCTURE AND ALGORITHM"
   ]
  },
  {
   "cell_type": "code",
   "execution_count": null,
   "id": "49c4a874",
   "metadata": {},
   "outputs": [],
   "source": [
    "DATA STRUCTURES:--- it is a way of organizing data that enables it to be processed in an efficient time.some commonly used \n",
    "          data structures are array,linked list, queue,tree etc., \n",
    "    \n",
    "DATA: data is information that has been translated into a form that is efficient for movement or processing in computing.\n",
    "    as it related to todays computers and transmission media data is information that has been converted into binary digital \n",
    "    form. the term \"raw data\" refers to data in its most basic digital format.\n",
    "    \n",
    "WHY WE NEED DATA STRUCTURE:\n",
    "    1. each data structure allows data to be stored differently\n",
    "    2. data structure allows efficient data search and retrieval.\n",
    "    3. specific data structures are chosen to solve specific problems.\n",
    "    4. data structure enables the management of large  amount of data such as large databases, and indexing services such\n",
    "       as hash table.\n",
    "        \n",
    "TYPES OF DATA STRUCTURE:\n",
    "    1. primitive:-- they are inbuild in any programm and its independent(int,float,string,bool)\n",
    "    2. non primitive:-- they are dependent or made use from other data structure(list,tuple,dict,array,lined list):\n",
    "            >> physical:- arrays,linked list.\n",
    "            >> logical:- are also called (ADT)-abstract data types:- stacks,queue,tree,graph.\n",
    "        \n",
    "\n",
    "        \n",
    "                                     NON-PRIMITIVE   DATA STRUCTURE:\n",
    "                \n",
    "                \n",
    "    \n",
    "    1.#LINEAR DATA STRUCTURE                                                 2.NON LINEAR DATA STRUCTUR\n",
    "    \n",
    "\n",
    ">> the elements in linear data structure are arranged                 >> non-linear data structure do not have eements in any \n",
    "impement because the elements are arranged in a specific               order as opposed to linear data structure instesd\n",
    "sequentially, one after the other. they are simple to                  they are arranged in a hierarchical order with one\n",
    "                                                                       element connected to one or more others.\n",
    "\n",
    ">> data structure where data elements are arranged sequentially      >> data structure whre data elements not arranged\n",
    "                                                                        sequentialy here multiple levels are involved\n",
    "and the elements are attached to its previous and next adjacent         transvering all the element in single run is not     \n",
    "element                                                                 possible.they are not easy to impliment as compared to\n",
    "                                                                        linear data structure eg.tree and graph\n",
    ">> in a linear data structure there is single level which means \n",
    "its not nesting. and we traverse all the element in single run.\n",
    "\n",
    ">> linear data structure are easy to implement and can be accessed\n",
    "easily as the memory is arranged in a linear way\n",
    "\n",
    "\n",
    "    1.#ARRAY DATA STRUCTURE:\n",
    "                                                                            1.#TREE DATA STRUCTURE:\n",
    "        > memory elements in an array are arranged in                  \n",
    "continous memory.an array's elements are all the same                  > > a graph is a nonlinear data structure made up\n",
    "                                                                        of nodes\n",
    "type.                                                                  and edges. the nodes are also known as verticles,and \n",
    "                                                                       edges are lines or arch that connect any two nodes in the\n",
    "    2.#STACK DATA STRUCTURE:                                           graph.\n",
    "        \n",
    "        > elements are stored using the LIFO principle.\n",
    "in other words the last element stored in a stack is                         2.#GRAPH DATA STRUCTURE:\n",
    "removed first a the operations are preformed from one end\n",
    "of the stack, namely \"top\"                                              >> a tree like a graph is a collection of vertices, and \n",
    "                                                                        edges. however there can only be one edege between two\n",
    "                                                                        vertices in a tree data structure.\n",
    "    3.#OUEUE DATA STRUCTURE:\n",
    "        \n",
    "        > oueue operates on the fifo principle which states\n",
    "that the first element stored is removed first ina  queue\n",
    "insertion and deletion are carried out from opposite.\n",
    "\n",
    "    4.#linked list \n",
    "        \n",
    "        \n",
    "real life examples:      \n",
    "        \n",
    "#ARRAY DATA STRUCTURE:\n",
    "   >> assume we are looing for the word \"simplilearn\" in dictionary and it begins with the letter \"s\",so we can search\n",
    "    for this word beginning with the letter \"s\". and this is an example array data structure.\n",
    "\n",
    "#LINED DATA STRCTURE:\n",
    "    >> if you have a playlist with three songs,the second song will be play afer the first and third song will play without \n",
    "      interruption because al three sonngs are linked as nodes in the lined list.\n",
    "        \n",
    "#STACK DATA STRUCTURE:\n",
    "    >> in a stack of books you must first remove the top most book before you access your desired boo. and if you want \n",
    "    to add  a\n",
    "      new book you can add it to the top of the boo stack.\n",
    "        \n",
    "#QUEUE DATA STRUCTURE:\n",
    "    >> any traditional \"Q\" format can be consided as an example for queue data structure unlike stacks, queue folows the\n",
    "    priciple of the first-in, first - out\n",
    "    \n",
    "#GRAPH DATA STRUCTURE:\n",
    "   >> google maps is a graph data structure in which the locations are connected if we want to go from one place to another\n",
    "    there are multiple we can use of algorithms to find the shorest path.\n",
    "    \n",
    "IMPORTANCE OF DATA STRUCTURE:\n",
    "    \n",
    "    >> data structures are widely used in almost every aspect of cs both for simple and complex computations.\n",
    "    >> ds are used in all areas of cs including artificial inteigence graphics, big data, operating systems, etc\n",
    "    >> ds are essential component of computer algorithms as they allow programmers to manage data efficiently.\n",
    "    >> a proper data structure selection can improve the efficiency of a computer progrsm or algorithm."
   ]
  },
  {
   "cell_type": "code",
   "execution_count": 1,
   "id": "d48ff905",
   "metadata": {},
   "outputs": [
    {
     "name": "stdout",
     "output_type": "stream",
     "text": [
      "1\n",
      "2\n",
      "3\n",
      "4\n",
      "5\n",
      "6\n",
      "7\n",
      "8\n",
      "9\n"
     ]
    }
   ],
   "source": [
    "#lineary\n",
    "lst=[1,2,3,4,5,6,7,8,9]\n",
    "for i in lst:\n",
    "    print(i)"
   ]
  },
  {
   "cell_type": "code",
   "execution_count": 3,
   "id": "8cb509cc",
   "metadata": {},
   "outputs": [
    {
     "name": "stdout",
     "output_type": "stream",
     "text": [
      "1\n",
      "2\n",
      "3\n",
      "4\n",
      "5\n",
      "11\n",
      "22\n",
      "33\n",
      "44\n",
      "55\n",
      "111\n",
      "222\n",
      "333\n",
      "444\n",
      "555\n"
     ]
    }
   ],
   "source": [
    "nsted_lst=[\n",
    "    [1,2,3,4,5],\n",
    "    [11,22,33,44,55],\n",
    "    [111,222,333,444,555]\n",
    "]\n",
    "\n",
    "for i in nsted_lst:\n",
    "    for j in i:\n",
    "        print(j)\n",
    "        "
   ]
  },
  {
   "cell_type": "code",
   "execution_count": null,
   "id": "ae0ce6e2",
   "metadata": {},
   "outputs": [],
   "source": [
    "#runtime analysis:- it is a study of a given algorithm or solution during the runtime.it tells us how our algorithms is \n",
    "#performing.\n"
   ]
  },
  {
   "cell_type": "code",
   "execution_count": null,
   "id": "d8c3901f",
   "metadata": {},
   "outputs": [],
   "source": [
    "Notations : \n",
    "    1. best case scenario :    (omega-)\n",
    "    2. worst case scenario :   (big O)\n",
    "    3. average case scenario : (theta)"
   ]
  },
  {
   "cell_type": "code",
   "execution_count": null,
   "id": "34350eaa",
   "metadata": {},
   "outputs": [],
   "source": [
    "time complexity:"
   ]
  },
  {
   "cell_type": "code",
   "execution_count": 6,
   "id": "6a6c39fb",
   "metadata": {},
   "outputs": [
    {
     "name": "stdout",
     "output_type": "stream",
     "text": [
      "iteration no 1\n",
      "iteration no 2\n",
      "iteration no 3\n",
      "iteration no 4\n",
      "iteration no 5\n",
      "iteration no 6\n",
      "iteration no 7\n",
      "iteration no 8\n"
     ]
    }
   ],
   "source": [
    "lst=[4,2,6,8,9,3,5,1]\n",
    "number= 11\n",
    "count= 1\n",
    "for i in lst:\n",
    "    print(\"iteration no\",count)\n",
    "    if i==number:\n",
    "        print(\"found\")\n",
    "\n",
    "    count+=1\n"
   ]
  },
  {
   "cell_type": "code",
   "execution_count": 7,
   "id": "20ad3bb9",
   "metadata": {},
   "outputs": [
    {
     "name": "stdout",
     "output_type": "stream",
     "text": [
      "iteration no 1\n",
      "found\n"
     ]
    }
   ],
   "source": [
    "lst=[4,2,6,8,9,3,5,1]\n",
    "number= 4\n",
    "count= 1\n",
    "for i in lst:\n",
    "    print(\"iteration no\",count)           #best case scenario\n",
    "    if i==number:\n",
    "        print(\"found\")\n",
    "        break\n",
    "    count+=1\n"
   ]
  },
  {
   "cell_type": "code",
   "execution_count": 8,
   "id": "727e9b66",
   "metadata": {},
   "outputs": [
    {
     "name": "stdout",
     "output_type": "stream",
     "text": [
      "iteration no 1\n",
      "iteration no 2\n",
      "iteration no 3\n",
      "iteration no 4\n",
      "iteration no 5\n",
      "iteration no 6\n",
      "iteration no 7\n",
      "iteration no 8\n",
      "found\n"
     ]
    }
   ],
   "source": [
    "lst=[4,2,6,8,9,3,5,1]\n",
    "number= 1\n",
    "count= 1\n",
    "for i in lst:\n",
    "    print(\"iteration no\",count)           # worst case scenario(memory was max and iteratio also max)\n",
    "    if i==number:\n",
    "        print(\"found\")\n",
    "        break\n",
    "    count+=1\n"
   ]
  },
  {
   "cell_type": "code",
   "execution_count": 9,
   "id": "f1a4bedd",
   "metadata": {},
   "outputs": [
    {
     "name": "stdout",
     "output_type": "stream",
     "text": [
      "iteration no 1\n",
      "iteration no 2\n",
      "iteration no 3\n",
      "iteration no 4\n",
      "found\n"
     ]
    }
   ],
   "source": [
    "lst=[4,2,6,8,9,3,5,1]\n",
    "number= 8\n",
    "count= 1\n",
    "for i in lst:\n",
    "    print(\"iteration no\",count)           #average case scenario\n",
    "    if i==number:\n",
    "        print(\"found\")\n",
    "        break\n",
    "    count+=1"
   ]
  },
  {
   "cell_type": "code",
   "execution_count": 85,
   "id": "962822e7",
   "metadata": {},
   "outputs": [
    {
     "ename": "IndentationError",
     "evalue": "unindent does not match any outer indentation level (<tokenize>, line 7)",
     "output_type": "error",
     "traceback": [
      "\u001b[1;36m  File \u001b[1;32m<tokenize>:7\u001b[1;36m\u001b[0m\n\u001b[1;33m    def add_element(self, new):\u001b[0m\n\u001b[1;37m    ^\u001b[0m\n\u001b[1;31mIndentationError\u001b[0m\u001b[1;31m:\u001b[0m unindent does not match any outer indentation level\n"
     ]
    }
   ],
   "source": [
    "class Array:\n",
    "    def __init__(self, length):\n",
    "            self.array = []\n",
    "            self.size = 0\n",
    "            self.maxlength = length \n",
    "\n",
    "        def add_element(self, new):\n",
    "            if self.size < self.maxlength:\n",
    "                if self.size>0:\n",
    "                    if type(new) == type(self.array[0]):\n",
    "                        self.array.append(new)\n",
    "                        self.size+=1\n",
    "\n",
    "                    else:\n",
    "                        print(\"Data types not Matching\")\n",
    "\n",
    "                else:\n",
    "                    self.array.append(new)\n",
    "                    self.size+=1\n",
    "\n",
    "            else:\n",
    "                print(\"Array is Full\")\n",
    "\n",
    "\n",
    "        def remove_element(self, index):\n",
    "            if self.size == 0:\n",
    "                print(\"Array is Empty\")\n",
    "\n",
    "            elif index+1 > self.size:\n",
    "                print(\"Index out of range\")\n",
    "\n",
    "            elif index == self.size-1:\n",
    "                self.array.pop()\n",
    "                self.size-=1\n",
    "            else:\n",
    "                for i in range(index, self.size-1):\n",
    "                    self.array[i] = self.array[i+1]\n",
    "                self.array.pop()\n",
    "\n",
    "\n",
    "        def display_array(self):\n",
    "            print(self.array)\n",
    "\n",
    "        def peak_element(self):\n",
    "            peak_element\n",
    "            class Array:\n",
    "        def _init_(self, length):\n",
    "            self.array = []\n",
    "            self.size = 0\n",
    "            self.maxlength = length \n",
    "\n",
    "        def add_element(self, new):\n",
    "            if self.size < self.maxlength:\n",
    "                if self.size>0:\n",
    "                    if type(new) == type(self.array[0]):\n",
    "                        self.array.append(new)\n",
    "                        self.size+=1\n",
    "\n",
    "                    else:\n",
    "                        print(\"Data types not Matching\")\n",
    "\n",
    "                else:\n",
    "                    self.array.append(new)\n",
    "                    self.size+=1\n",
    "\n",
    "            else:\n",
    "                print(\"Array is Full\")\n",
    "\n",
    "\n",
    "        def remove_element(self, index):\n",
    "            if self.size == 0:\n",
    "                print(\"Array is Empty\")\n",
    "\n",
    "            elif index+1 > self.size:\n",
    "                print(\"Index out of range\")\n",
    "\n",
    "            elif index == self.size-1:\n",
    "                self.array.pop()\n",
    "                self.size-=1\n",
    "            else:\n",
    "                for i in range(index, self.size-1):\n",
    "                    self.array[i] = self.array[i+1]\n",
    "                self.array.pop()\n",
    "\n",
    "\n",
    "        def display_array(self):\n",
    "            print(self.array) \n",
    "\n",
    "        def peak_element(self):\n",
    "            peak_element=[]\n",
    "            for i in range(self.size):\n",
    "                if i==0:\n",
    "                    if self.array[i]>self.array[i+1]:\n",
    "                        peak_element.append(self.array[i])\n",
    "\n",
    "                elif i==self.size-1:\n",
    "                    if self.array[i]>=self.array[i-1]:\n",
    "                        peak_element.append(self.array[i])\n",
    "                else:\n",
    "                    if self.array[i]> self.array[i-1] and self.array[i+1]:\n",
    "                        peak_element.append(self.array[i])\n",
    "\n",
    "            return peak_element"
   ]
  },
  {
   "cell_type": "code",
   "execution_count": 52,
   "id": "28b9ecd8",
   "metadata": {},
   "outputs": [
    {
     "ename": "TypeError",
     "evalue": "Array() takes no arguments",
     "output_type": "error",
     "traceback": [
      "\u001b[1;31m---------------------------------------------------------------------------\u001b[0m",
      "\u001b[1;31mTypeError\u001b[0m                                 Traceback (most recent call last)",
      "Cell \u001b[1;32mIn[52], line 1\u001b[0m\n\u001b[1;32m----> 1\u001b[0m array \u001b[38;5;241m=\u001b[39m \u001b[43mArray\u001b[49m\u001b[43m(\u001b[49m\u001b[38;5;241;43m10\u001b[39;49m\u001b[43m)\u001b[49m\n",
      "\u001b[1;31mTypeError\u001b[0m: Array() takes no arguments"
     ]
    }
   ],
   "source": [
    "array = Array(10)"
   ]
  },
  {
   "cell_type": "code",
   "execution_count": 65,
   "id": "787fccd6",
   "metadata": {},
   "outputs": [],
   "source": [
    "array.add_element(5)"
   ]
  },
  {
   "cell_type": "code",
   "execution_count": 69,
   "id": "f81c4511",
   "metadata": {},
   "outputs": [
    {
     "name": "stdout",
     "output_type": "stream",
     "text": [
      "[9, 9, 5, 8, 10, 67, 56, 6, 3, 5]\n"
     ]
    }
   ],
   "source": [
    "array.display_array()"
   ]
  },
  {
   "cell_type": "code",
   "execution_count": 86,
   "id": "21e94150",
   "metadata": {},
   "outputs": [
    {
     "ename": "AttributeError",
     "evalue": "'Array' object has no attribute 'peak_element'",
     "output_type": "error",
     "traceback": [
      "\u001b[1;31m---------------------------------------------------------------------------\u001b[0m",
      "\u001b[1;31mAttributeError\u001b[0m                            Traceback (most recent call last)",
      "Cell \u001b[1;32mIn[86], line 1\u001b[0m\n\u001b[1;32m----> 1\u001b[0m \u001b[43marray\u001b[49m\u001b[38;5;241;43m.\u001b[39;49m\u001b[43mpeak_element\u001b[49m\n",
      "\u001b[1;31mAttributeError\u001b[0m: 'Array' object has no attribute 'peak_element'"
     ]
    }
   ],
   "source": [
    "array.peak_element"
   ]
  },
  {
   "cell_type": "code",
   "execution_count": null,
   "id": "17b19f5f",
   "metadata": {},
   "outputs": [],
   "source": [
    "peak element - a largest element in the array of list "
   ]
  },
  {
   "cell_type": "code",
   "execution_count": 10,
   "id": "a4110731",
   "metadata": {},
   "outputs": [
    {
     "name": "stdout",
     "output_type": "stream",
     "text": [
      "[1 3 5]\n"
     ]
    }
   ],
   "source": [
    "import numpy as np\n",
    "array=np.array([1,3,5])\n",
    "print(array)"
   ]
  },
  {
   "cell_type": "code",
   "execution_count": 11,
   "id": "5c080c3e",
   "metadata": {},
   "outputs": [
    {
     "name": "stdout",
     "output_type": "stream",
     "text": [
      "array('i', [1, 2, 3, 4, 5])\n"
     ]
    }
   ],
   "source": [
    "import array as ar\n",
    "\n",
    "arr=ar.array(\"i\",[1,2,3,4,5])\n",
    "print(arr)"
   ]
  },
  {
   "cell_type": "code",
   "execution_count": 16,
   "id": "5d8c4873",
   "metadata": {},
   "outputs": [
    {
     "name": "stdout",
     "output_type": "stream",
     "text": [
      "array('I', [1, 4, 5])\n"
     ]
    }
   ],
   "source": [
    "from array import *\n",
    "arr=array(\"I\",[1,4,5])\n",
    "print(arr)"
   ]
  },
  {
   "cell_type": "code",
   "execution_count": 15,
   "id": "4070f1d1",
   "metadata": {},
   "outputs": [
    {
     "name": "stdout",
     "output_type": "stream",
     "text": [
      "array('i', [-9, -7])\n"
     ]
    }
   ],
   "source": [
    "from array import *\n",
    "\n",
    "arr=array(\"i\",[-9,-7])\n",
    "print(arr)"
   ]
  },
  {
   "cell_type": "code",
   "execution_count": 17,
   "id": "b3686456",
   "metadata": {},
   "outputs": [
    {
     "name": "stdout",
     "output_type": "stream",
     "text": [
      "array('u', 'abc')\n"
     ]
    }
   ],
   "source": [
    "from array import *\n",
    "arr = array(\"u\",[\"a\",\"b\",\"c\"])\n",
    "print(arr)"
   ]
  },
  {
   "cell_type": "code",
   "execution_count": 18,
   "id": "dca7839d",
   "metadata": {},
   "outputs": [
    {
     "name": "stdout",
     "output_type": "stream",
     "text": [
      "array('f', [9.0, 7.0, 5.0, 6.699999809265137])\n"
     ]
    }
   ],
   "source": [
    "from array import *\n",
    "arr = array(\"f\",[9,7,5,6.7])\n",
    "print(arr)"
   ]
  },
  {
   "cell_type": "code",
   "execution_count": 19,
   "id": "88ceab61",
   "metadata": {},
   "outputs": [
    {
     "name": "stdout",
     "output_type": "stream",
     "text": [
      "array('i', [4, 1, 2, 3, 4, 5])\n"
     ]
    }
   ],
   "source": [
    "from array import *\n",
    "arr= array(\"i\",[1,2,3,4,5])\n",
    "\n",
    "arr.insert(0,4)\n",
    "print(arr)"
   ]
  },
  {
   "cell_type": "code",
   "execution_count": 20,
   "id": "13a52081",
   "metadata": {},
   "outputs": [
    {
     "name": "stdout",
     "output_type": "stream",
     "text": [
      "array('i', [2, 3, 4, 5])\n"
     ]
    }
   ],
   "source": [
    "import array\n",
    "arr=array.array(\"i\",[1,2,3,4,5])\n",
    "\n",
    "arr.pop(0)\n",
    "print(arr)"
   ]
  },
  {
   "cell_type": "code",
   "execution_count": 26,
   "id": "178c9b91",
   "metadata": {},
   "outputs": [
    {
     "name": "stdout",
     "output_type": "stream",
     "text": [
      "4\n"
     ]
    }
   ],
   "source": [
    "import array\n",
    "arr=array.array(\"i\",[1,2,3,4,5])\n",
    "a=5\n",
    "for i in range(0,len(arr)):\n",
    "    if arr[i] == a:\n",
    "        print(i)\n",
    "        break"
   ]
  },
  {
   "cell_type": "markdown",
   "id": "2fff1007",
   "metadata": {},
   "source": [
    "# ALGORITHMS"
   ]
  },
  {
   "cell_type": "code",
   "execution_count": null,
   "id": "e2fd94ef",
   "metadata": {},
   "outputs": [],
   "source": [
    "Algorithms:  a method or  set of rules that must  be followed when performing problem-solving operations.as a result\n",
    "    an algorithm is a collection of rules or instructions that govern how a work is to be conducted step-by-step \n",
    "    to archive the desired results is termed as an algorithm\n",
    "    \n",
    "              INPUT --->> CONDITION FOR DESIRED RESULT  ---->> OUTPUT\n",
    "    \n",
    "real life example:-- sneha wants to prepare tea to do she is following a series of steps.\n",
    "    \n",
    "characteristics of an algorithm:\n",
    "    \n",
    "    1. clear and unambigous-- the algorith should be distinct in everyway and lead to a single conclusion\n",
    "    \n",
    "    2. well-defined input--- the algorithm must indicate what output will be produced,as well as be well-defined\n",
    "    \n",
    "    3. well-defined output-- the algorithm must cleary indicate what output will be produced as well as be well defined\n",
    "    \n",
    "    4. finite-ness-- the algorithm must be finite; it must not result in infinite loops or similar situations\n",
    "    \n",
    "    5. feasible-- the algorithm must be simple,generic,and practical,and it must be able to be executed with the resources\n",
    "         availabe it can't cantain any futuristic technoogies or anything like that\n",
    "        \n",
    "    6. language independent-- the designed algorithm must be simpe instruction in readable manner\n",
    "    \n",
    "algorithm analysis:\n",
    "    the\n"
   ]
  },
  {
   "cell_type": "markdown",
   "id": "2ea92c41",
   "metadata": {},
   "source": [
    "# array"
   ]
  },
  {
   "cell_type": "code",
   "execution_count": null,
   "id": "8ea9052c",
   "metadata": {},
   "outputs": [],
   "source": [
    "Array:-- array is data structure which consists of colection of homogenous data each element has a index value and can be\n",
    "    accessed sequencially\n",
    "       eg. marks=[100,80,90,80,90]\n",
    "        \n",
    "        array is static data type(fixed memmory) python array are dimanic ()\n",
    "\n",
    "properties of array:\n",
    "    1. it is a collection og homogenous element.\n",
    "    2. every element has a unique index\n",
    "    3. index starts with 0\n",
    "    \n",
    "\n",
    "an array is a linear data structure that collects elements of same data type and stores them in a contiguous and adjacent\n",
    "memory locations.\n",
    "\n",
    "array accepts only one data types.\n",
    "\n",
    ">> lower bound--- the first inialized location is called lower bound\n",
    ">> upper bound---- the last max value is called upper bound\n",
    "\n",
    "SYNTAX OF ARRAY---->> datatype- array_name[array_size];\n",
    "\n",
    "#initialization of arrays\n",
    "\n",
    "method 1-->> int a[5]={1,2,3,4,5};\n",
    "method 2-->> int a[]={1,2,3,4,5};\n",
    "method 3-->> int a[5];a[0]=1;\n",
    "               a[1]=2;\n",
    "               a[2]=3;\n",
    "               a[3]=4;\n",
    "               a[4]=5;\n",
    "method 4-->> int a[5];\n",
    "               for(i=0;i<5;i++)\n",
    "                  {scanf(\"%d\",a[i]);\n",
    "                                        }\n",
    "              \n",
    "OPERATIONS ON ARRAY ELEMENTS:\n",
    "    \n",
    "    >> #traversal--- traversal is an arrays is a process of visiting each elements once.\n",
    "traversl can be done by various means\n",
    "    > counting the array elements..\n",
    "    > printing the values stored in an array\n",
    "    > sum of al elements present in an array an many more\n",
    "    \n",
    "    >> #insertion--- insertion in an array is the process of including one or more elements in an array.\n",
    "insertion of an element can be done:\n",
    "    > at the beginning\n",
    "    > at the end\n",
    "    > at any given index of an array\n",
    "    \n",
    "    \n",
    "    >> #deletion-- deletion of an element is the process of removing the desired element and re-organize it\n",
    "deletion can also be done by different ways:\n",
    "    > from the beginning\n",
    "    > from the end\n",
    "    > from any given index \n",
    "    \n",
    "    >> #searching-- searching the process of finding a given vaue in a list of values.\n",
    "         >it decides whether the search ey is present in array or not\n",
    "         > it is an algorithmic process of finding a particular item ina collection og data\n",
    "\n",
    "    >> #sorting -- sorting in an array is the process in which elements sorted in a user defined order.\n",
    "    ex: numerical,alphabetical, etc\n",
    "        > by default sorting process is done in the ascending order.\n",
    "\n",
    "TYPES OF ARRAYS:\n",
    "    >>one dimensional  >>multi dimensional:\n",
    "          (1D)                  1.2D array\n",
    "                                2.3D array...ND\n",
    "                \n",
    ">>one dimensional array--->> a one dimensional array required only one subscript to specify elements in a array.\n",
    "     SYNTAX-- array data type - array name - array size[int marks[10];]\n",
    "    \n",
    ">>multi dimensional array--->>> multi dimensional arrays required more than one subscript to specify elements in a array."
   ]
  },
  {
   "cell_type": "code",
   "execution_count": null,
   "id": "f1c5f35e",
   "metadata": {},
   "outputs": [],
   "source": []
  },
  {
   "cell_type": "markdown",
   "id": "be691e0e",
   "metadata": {},
   "source": [
    "# two dimensional arrays"
   ]
  },
  {
   "cell_type": "code",
   "execution_count": null,
   "id": "143ffb7f",
   "metadata": {},
   "outputs": [],
   "source": [
    ">>two dimensional arrays that can be define as an arrays of array\n",
    ">> it is created to execute relational database which is like data structure.\n",
    ">> 2d arrays organised as matrices which are the collection of rows and coloumns.\n",
    "\n",
    "\n",
    "ADVANTAGE OF 2D ARRAYS:\n",
    "    >> the main advantage of two dimensional arrays is grouping of elements.\n",
    "SYNTAX\n",
    "    >> data_type name_of_array[R][C];\n",
    "    coloumn should not be empty\n",
    "    \n",
    "    eg: float arr[3][4]; \n",
    "        char names[7][15];  --- int num[3][3]={{1,2,3},{4,5,6},{7,8,9}};"
   ]
  },
  {
   "cell_type": "markdown",
   "id": "d48db791",
   "metadata": {},
   "source": [
    "# three dimensional arrays"
   ]
  },
  {
   "cell_type": "code",
   "execution_count": null,
   "id": "a6ab7442",
   "metadata": {},
   "outputs": [],
   "source": [
    "A 3d array is a collection of 2d arrays which consists of three subcripts:(bock size, row size, and coloumn size)"
   ]
  },
  {
   "cell_type": "code",
   "execution_count": null,
   "id": "4ca8f9ee",
   "metadata": {},
   "outputs": [],
   "source": [
    "ADVANTAGE OF ARRAY\n",
    "\n",
    "1. arrys stores multiple elements of same type with the same name.\n",
    "2. elements in array can accessed randomly using an index number.\n",
    "3. array memory is predefined so there is no extra memory loss.\n",
    "4. array avoid memory overfow\n",
    "5. 2d array can represent the tabular data in a efficient way."
   ]
  },
  {
   "cell_type": "code",
   "execution_count": null,
   "id": "8df8a353",
   "metadata": {},
   "outputs": [],
   "source": [
    "DISADVANTAGE OF ARRAY:\n",
    "\n",
    "1. the number of elements in an array should be pre-defined\n",
    "2. array is static in nature; its size cannot be varied after declaration\n",
    "3. insertion and deletion operation in an array is quite difficult as array stores element in continous form\n",
    "4. allocation excess memory than required may lead to memory wastage. "
   ]
  },
  {
   "cell_type": "markdown",
   "id": "7332ea9c",
   "metadata": {},
   "source": [
    "# stack"
   ]
  },
  {
   "cell_type": "code",
   "execution_count": null,
   "id": "271fd540",
   "metadata": {},
   "outputs": [],
   "source": [
    "STACK--A stack is a linear data structure that stores items in a Last-In/First-Out (LIFO)This means the last in first out\n",
    "last element inserted inside the stack is removed first orFirst-In/Last-Out (FILO) manner. \n",
    "\n",
    "You can think of the stack data structure as the pile of plates on top of another.\n",
    "Here, you can:\n",
    "\n",
    "    >>Put a new plate on top\n",
    "    >>Remove the top plate\n",
    "And, if you want the plate at the bottom, you must first remove all the plates on top. This is exactly how the stack data \n",
    "structure works.\n",
    "\n",
    "stacks are data structure arranged one above the another\n",
    "\n",
    "#LIFO Principle of Stack\n",
    "In programming terms, putting an item on top of the stack is called push and removing an item is called pop.\n",
    "\n",
    "        In stack, a new element is added at one end and an element is removed from that end only. \n",
    "        The insert and delete operations are often called push and pop.\n",
    "\n",
    "# The functions associated with stack are:\n",
    "\n",
    "empty() – Returns whether the stack is empty – Time Complexity: O(1)\n",
    "    \n",
    "size() – Returns the size of the stack – Time Complexity: O(1)\n",
    "    \n",
    "top() / peek() – \"show data/eement present on the top\",\n",
    "         Returns a reference to the topmost element of the stack – Time Complexity: O(1)\n",
    "        \n",
    "push(a) – \"inserting the a new eement\",Inserts the element ‘a’ at the top of the stack – Time Complexity: O(1)\n",
    "    \n",
    "pop() – \"deleting an element\" ,Deletes the topmost element of the stack – Time Complexity: O(1)\n",
    "\n",
    "#Stack in Python can be implemented using the following ways: \n",
    "\n",
    "list\n",
    "Collections.deque\n",
    "queue.LifoQueue\n",
    "\n",
    "#Advantages of Stack:\n",
    "Stacks are simple data structures with a well-defined set of operations, which makes them easy to understand and use.\n",
    "Stacks are efficient for adding and removing elements, as these operations have a time complexity of O(1).\n",
    "In order to reverse the order of elements we use the stack data structure.\n",
    "Stacks can be used to implement undo/redo functions in applications\n",
    "\n",
    "#Drawbacks of Stack:\n",
    "Restriction of size in Stack is a drawback and if they are full, you cannot add any more elements to the stack.\n",
    "Stacks do not provide fast access to elements other than the top element.\n",
    "Stacks do not support efficient searching, as you have to pop elements \n",
    "one by one until you find the element you are looking for."
   ]
  },
  {
   "cell_type": "code",
   "execution_count": 181,
   "id": "8541fd1f",
   "metadata": {},
   "outputs": [],
   "source": [
    "#implementation using array\n",
    "\n",
    "class stack:\n",
    "    def __init__(self,limit):\n",
    "        self.stack=[]\n",
    "        self.maxlength=limit\n",
    "        \n",
    "    def push(self,element):\n",
    "        if self.isfull():\n",
    "            print(\"stack is full\")\n",
    "        else:\n",
    "            self.stack.append(element)\n",
    "    def pop(self):\n",
    "        if self.isempty():\n",
    "            print(\"stack is empty\")\n",
    "        else:\n",
    "            poped = self.stack.pop()\n",
    "            return poped\n",
    "        \n",
    "    def isfull(self):\n",
    "        if len(self.stack) == self.maxlength:\n",
    "            return True\n",
    "        else:\n",
    "            return False\n",
    "        \n",
    "        \n",
    "    def isempty(self):\n",
    "        if len(self.stack)== 0:\n",
    "            return True\n",
    "        else:\n",
    "            return False\n",
    "        \n",
    "    def peek(self):\n",
    "        return self.stack[-1]\n",
    "    \n",
    "    def delete(self):\n",
    "        for i in range(len(self.stack)):\n",
    "            self.stack.pop()\n",
    "        return self.stack\n",
    "    \n",
    "    def display(self):\n",
    "        print(self.stack)\n",
    "        \n",
    "        \n",
    "\n",
    "\n"
   ]
  },
  {
   "cell_type": "code",
   "execution_count": 182,
   "id": "64275828",
   "metadata": {},
   "outputs": [],
   "source": [
    "stack = stack(3)"
   ]
  },
  {
   "cell_type": "code",
   "execution_count": 183,
   "id": "d50446aa",
   "metadata": {},
   "outputs": [
    {
     "name": "stdout",
     "output_type": "stream",
     "text": [
      "[]\n"
     ]
    }
   ],
   "source": [
    "stack.display()"
   ]
  },
  {
   "cell_type": "code",
   "execution_count": 184,
   "id": "2bb14c69",
   "metadata": {},
   "outputs": [
    {
     "name": "stdout",
     "output_type": "stream",
     "text": [
      "stack is empty\n"
     ]
    }
   ],
   "source": [
    "stack.pop()"
   ]
  },
  {
   "cell_type": "code",
   "execution_count": 185,
   "id": "91f1cb88",
   "metadata": {},
   "outputs": [],
   "source": [
    "stack.push(45)"
   ]
  },
  {
   "cell_type": "code",
   "execution_count": 186,
   "id": "8a5cd814",
   "metadata": {},
   "outputs": [
    {
     "data": {
      "text/plain": [
       "45"
      ]
     },
     "execution_count": 186,
     "metadata": {},
     "output_type": "execute_result"
    }
   ],
   "source": [
    "stack.peek()"
   ]
  },
  {
   "cell_type": "code",
   "execution_count": 188,
   "id": "6248c4a6",
   "metadata": {},
   "outputs": [
    {
     "data": {
      "text/plain": [
       "[]"
      ]
     },
     "execution_count": 188,
     "metadata": {},
     "output_type": "execute_result"
    }
   ],
   "source": [
    "stack.delete()"
   ]
  },
  {
   "cell_type": "code",
   "execution_count": 87,
   "id": "b2b4f7a9",
   "metadata": {},
   "outputs": [
    {
     "name": "stdout",
     "output_type": "stream",
     "text": [
      "Brackets are not balanced.\n"
     ]
    }
   ],
   "source": [
    "def are_brackets_balanced(expression):\n",
    "    stack = []\n",
    "    opening_brackets = ['[', '(', '{']\n",
    "    closing_brackets = [']', ')', '}']\n",
    "    \n",
    "    for char in expression:\n",
    "        if char in opening_brackets:\n",
    "            stack.append(char)\n",
    "        elif char in closing_brackets:\n",
    "            if len(stack) == 0:\n",
    "                return False\n",
    "            opening_bracket = stack.pop()\n",
    "            if opening_brackets.index(opening_bracket) != closing_brackets.index(char):\n",
    "                return False\n",
    "    \n",
    "    return len(stack) == 0\n",
    "\n",
    "expression = \"[(4+3-1*{7*2+5)}]\"\n",
    "balanced = are_brackets_balanced(expression)\n",
    "print(\"Brackets are balanced.\" if balanced else \"Brackets are not balanced.\")"
   ]
  },
  {
   "cell_type": "code",
   "execution_count": 90,
   "id": "8c78a89f",
   "metadata": {},
   "outputs": [
    {
     "name": "stdout",
     "output_type": "stream",
     "text": [
      "Brackets are balanced.\n"
     ]
    }
   ],
   "source": [
    "def are_brackets_balanced(expression):\n",
    "    stack = []\n",
    "    opening_brackets = ['[', '(', '{']\n",
    "    closing_brackets = [']', ')', '}']\n",
    "    \n",
    "    for char in expression:\n",
    "        if char in opening_brackets:\n",
    "            stack.append(char)\n",
    "        elif char in closing_brackets:\n",
    "            if len(stack) == 0:\n",
    "                return False\n",
    "            opening_bracket = stack.pop()\n",
    "            if opening_brackets.index(opening_bracket) != closing_brackets.index(char):\n",
    "                return False\n",
    "    \n",
    "    return len(stack) == 0\n",
    "\n",
    "expression = \"[(6*5)+{(1+4-(6/2))}]\"\n",
    "balanced = are_brackets_balanced(expression)\n",
    "print(\"Brackets are balanced.\" if balanced else \"Brackets are not balanced.\")"
   ]
  },
  {
   "cell_type": "code",
   "execution_count": 37,
   "id": "d22009f4",
   "metadata": {},
   "outputs": [
    {
     "name": "stdout",
     "output_type": "stream",
     "text": [
      "initia stack\n",
      "['a', 'b', 'c']\n",
      "\n",
      " elements popped from stack\n",
      "c\n",
      "b\n",
      "a\n",
      "\n",
      " stack after popped\n",
      "[]\n"
     ]
    }
   ],
   "source": [
    "#implementation using list\n",
    "stack =[]\n",
    "stack.append(\"a\")\n",
    "stack.append(\"b\")\n",
    "stack.append(\"c\")\n",
    "\n",
    "print(\"initia stack\")\n",
    "print(stack)\n",
    "\n",
    "print(\"\\n elements popped from stack\")\n",
    "print(stack.pop())\n",
    "print(stack.pop())\n",
    "print(stack.pop())\n",
    "\n",
    "print(\"\\n stack after popped\")\n",
    "print(stack)"
   ]
  },
  {
   "cell_type": "code",
   "execution_count": 96,
   "id": "61ea8046",
   "metadata": {},
   "outputs": [
    {
     "name": "stdout",
     "output_type": "stream",
     "text": [
      "Brackets are not balanced.\n"
     ]
    }
   ],
   "source": [
    "def are_brackets_balanced(expression):\n",
    "    stack = Stack()\n",
    "    opening_brackets = ['[', '(', '{']\n",
    "    closing_brackets = [']', ')', '}']\n",
    "    bracket_pairs = {'[': ']', '(': ')', '{': '}'}\n",
    "\n",
    "    for char in expression:\n",
    "        if char in opening_brackets:\n",
    "            stack.push(char)\n",
    "        elif char in closing_brackets:\n",
    "            if stack.is_empty():\n",
    "                return False\n",
    "            top = stack.pop()\n",
    "            if bracket_pairs[top] != char:\n",
    "                return False\n",
    "\n",
    "    return stack.is_empty()\n",
    "\n",
    "\n",
    "expression = \"[(4+3-1*{7*2+5)}]\"\n",
    "balanced = are_brackets_balanced(expression)\n",
    "print(\"Brackets are balanced.\" if balanced else \"Brackets are not balanced.\")\n"
   ]
  },
  {
   "cell_type": "code",
   "execution_count": 97,
   "id": "40c5de73",
   "metadata": {},
   "outputs": [
    {
     "name": "stdout",
     "output_type": "stream",
     "text": [
      "Brackets are balanced.\n"
     ]
    }
   ],
   "source": [
    "def are_brackets_balanced(expression):\n",
    "    stack = Stack()\n",
    "    opening_brackets = ['[', '(', '{']\n",
    "    closing_brackets = [']', ')', '}']\n",
    "    bracket_pairs = {'[': ']', '(': ')', '{': '}'}\n",
    "\n",
    "    for char in expression:\n",
    "        if char in opening_brackets:\n",
    "            stack.push(char)\n",
    "        elif char in closing_brackets:\n",
    "            if stack.is_empty():\n",
    "                return False\n",
    "            top = stack.pop()\n",
    "            if bracket_pairs[top] != char:\n",
    "                return False\n",
    "\n",
    "    return stack.is_empty()\n",
    "\n",
    "\n",
    "expression = \"[(6*5)+{(1+4-(6/2))}]\"\n",
    "balanced = are_brackets_balanced(expression)\n",
    "print(\"Brackets are balanced.\" if balanced else \"Brackets are not balanced.\")\n"
   ]
  },
  {
   "cell_type": "code",
   "execution_count": 39,
   "id": "d1733761",
   "metadata": {},
   "outputs": [
    {
     "name": "stdout",
     "output_type": "stream",
     "text": [
      "inialise stack\n",
      "deque(['a', 'b', 'c'])\n",
      "\n",
      "elements popped from stack\n",
      "c\n",
      "b\n",
      "a\n",
      "\n",
      " stack after pop\n",
      "deque([])\n"
     ]
    }
   ],
   "source": [
    "#implenentation using Collections.deque\n",
    "from collections import deque\n",
    "\n",
    "stack = deque()\n",
    "\n",
    "stack.append(\"a\")\n",
    "stack.append(\"b\")\n",
    "stack.append(\"c\")\n",
    "print(\"inialise stack\")\n",
    "print(stack)\n",
    "\n",
    "print(\"\\nelements popped from stack\")\n",
    "print(stack.pop())\n",
    "print(stack.pop())\n",
    "print(stack.pop())\n",
    "\n",
    "print(\"\\n stack after pop\")\n",
    "print(stack)"
   ]
  },
  {
   "cell_type": "code",
   "execution_count": null,
   "id": "d42e61ad",
   "metadata": {},
   "outputs": [],
   "source": [
    "#implenentation using queue.LifoQueue\n",
    "\n",
    "Queue module also has a LIFO Queue, which is basically a Stack.\n",
    "Data is inserted into Queue using the put() function and get() takes data out from the Queue. \n",
    "\n",
    "There are various functions available in this module: \n",
    "\n",
    "maxsize – Number of items allowed in the queue.\n",
    "\n",
    "empty() – Return True if the queue is empty, False otherwise.\n",
    "\n",
    "full() – Return True if there are maxsize items in the queue. If the queue was initialized with maxsize=0 (the default),\n",
    "then full() never returns True.\n",
    "\n",
    "get() – Remove and return an item from the queue. If the queue is empty, wait until an item is available.\n",
    "\n",
    "get_nowait() – Return an item if one is immediately available, else raise QueueEmpty.\n",
    "\n",
    "put(item) – Put an item into the queue. If the queue is full, wait until a free slot is available before adding the item.\n",
    "\n",
    "put_nowait(item) – Put an item into the queue without blocking. If no free slot is immediately available, raise QueueFull.\n",
    "\n",
    "qsize() – Return the number of items in the queue."
   ]
  },
  {
   "cell_type": "code",
   "execution_count": 42,
   "id": "395f090a",
   "metadata": {},
   "outputs": [
    {
     "name": "stdout",
     "output_type": "stream",
     "text": [
      "0\n",
      "Full True\n",
      "Size 3\n",
      "element poped from stack\n",
      "c\n",
      "b\n",
      "a\n",
      "\n",
      "Empty: True\n"
     ]
    }
   ],
   "source": [
    "#implenentation using queue.LifoQueue\n",
    "\n",
    "from queue import LifoQueue\n",
    "\n",
    "stack = LifoQueue(maxsize=3)\n",
    "print(stack.qsize())\n",
    "\n",
    "stack.put(\"a\")\n",
    "stack.put(\"b\")\n",
    "stack.put(\"c\")\n",
    "\n",
    "print(\"Full\",stack.full())\n",
    "print(\"Size\",stack.qsize())\n",
    "\n",
    "print(\"element poped from stack\")\n",
    "print(stack.get())\n",
    "print(stack.get())\n",
    "print(stack.get())\n",
    "\n",
    "print(\"\\nEmpty:\",stack.empty())"
   ]
  },
  {
   "cell_type": "code",
   "execution_count": 44,
   "id": "907c441c",
   "metadata": {},
   "outputs": [
    {
     "name": "stdout",
     "output_type": "stream",
     "text": [
      "appened item:1\n",
      "appened item:2\n",
      "appened item:3\n",
      "appened item:4\n",
      "popped item4\n",
      "stack after popping an element['1', '2', '3']\n"
     ]
    }
   ],
   "source": [
    "#stack implementation in python\n",
    "\n",
    "def create_stack():\n",
    "    stack =[]\n",
    "    return stack\n",
    "\n",
    "def check_empty(stack):\n",
    "    return len(stack)==0\n",
    "def push(stack,item):\n",
    "    stack.append(item)\n",
    "    print(\"appened item:\" + item)\n",
    "    \n",
    "def pop(stack):\n",
    "    if(check_empty(stack)):\n",
    "        return \"stack is empty\"\n",
    "    return stack.pop()\n",
    "\n",
    "stack = create_stack()\n",
    "push(stack,str(1))\n",
    "push(stack,str(2))\n",
    "push(stack,str(3))\n",
    "push(stack,str(4))\n",
    "\n",
    "print(\"popped item\"+ pop(stack))\n",
    "print(\"stack after popping an element\" + str(stack))"
   ]
  },
  {
   "cell_type": "markdown",
   "id": "1da73116",
   "metadata": {},
   "source": [
    "# QUEUE"
   ]
  },
  {
   "cell_type": "code",
   "execution_count": null,
   "id": "12cd6fea",
   "metadata": {},
   "outputs": [],
   "source": [
    "QUEUE-- A queue is a linear type of data structure used to store the data in a sequentially. The concept of queue is based \n",
    "on the FIFO, which means \"First in First Out\". It is also known as \"first come first severed\". \n",
    "The queue has the two ends front and rear. The next element is inserted from the rear end and removed from the front end.\n",
    "\n",
    "\"queue opens both the ends\"\n",
    "\n",
    "For example - There are 20 computers in the computer science lab and connected to a single printer. \n",
    "The students want to print their paper; the printer will print the first task and second, so on.If we are the last in line, \n",
    "we need to wait until all other tasks are completed that ahead of ours.\n",
    "\n",
    "The operating system manages the queue for processing the various processes within a computer.\n",
    "\n",
    ">>A good example of queue is any queue of consumers for a resource where the consumer that came first is served first.\n",
    "\n",
    "#Operations associated with queue are: \n",
    " \n",
    "\n",
    "Enqueue: Adds an item(rear element)to the queue. If the queue is full, then it is said to be an \n",
    "    Overflow condition – Time Complexity : O(1)\n",
    "        \n",
    "Dequeue: Removes an item from the queue. The items are popped in the same order in which they are pushed.\n",
    "    If the queue is empty, then it is said to be an Underflow condition – Time Complexity : O(1)\n",
    "        \n",
    "Front: Get the front item from queue – Time Complexity : O(1)\n",
    "        \n",
    "Rear: Get the last item from queue – Time Complexity : O(1)"
   ]
  },
  {
   "cell_type": "code",
   "execution_count": 32,
   "id": "429d3e5c",
   "metadata": {},
   "outputs": [],
   "source": [
    "#implementating queue using array \n",
    "\n",
    "class Queue:\n",
    "    def __init__(self,length):\n",
    "        self.queue =[]\n",
    "        self.maxlength = length\n",
    "        \n",
    "    def enqueue(self,element):\n",
    "        if self.isfull():\n",
    "            print(\"queue is full\")\n",
    "        else:\n",
    "            self.queue.append(element)\n",
    "        \n",
    "        \n",
    "    def isfull(self):\n",
    "        if len(self.queue)==self.maxlength:\n",
    "            return True\n",
    "        else:\n",
    "            return False\n",
    "        \n",
    "        \n",
    "    def dequeue(self):\n",
    "        if self.isempty():\n",
    "            print(\"que is empty\")\n",
    "        else:\n",
    "            popped = self.queue.pop(0)\n",
    "            return popped\n",
    "        \n",
    "        \n",
    "    def isempty(self):\n",
    "        if len(self.queue) == 0:\n",
    "            return True\n",
    "        else:\n",
    "            return False\n",
    "        \n",
    "    \n",
    "    def display(self):\n",
    "        return self.queue\n",
    "    \n",
    "    def delete_queue(self):\n",
    "        for i in range(0,len(self.queue)):\n",
    "            self.queue.pop(0)\n",
    "            \n",
    "    def peek_in_queue(self):\n",
    "        if self.isempty():\n",
    "            print(\"no element\")\n",
    "        else:\n",
    "            return  self.queue[0]\n",
    "        \n",
    "    "
   ]
  },
  {
   "cell_type": "code",
   "execution_count": 33,
   "id": "54f5e56d",
   "metadata": {},
   "outputs": [],
   "source": [
    "queue = Queue(7)"
   ]
  },
  {
   "cell_type": "code",
   "execution_count": 41,
   "id": "77fd4fae",
   "metadata": {},
   "outputs": [
    {
     "name": "stdout",
     "output_type": "stream",
     "text": [
      "queue is full\n"
     ]
    }
   ],
   "source": [
    "queue.enqueue(56)"
   ]
  },
  {
   "cell_type": "code",
   "execution_count": 42,
   "id": "4f98e817",
   "metadata": {},
   "outputs": [
    {
     "data": {
      "text/plain": [
       "[7, 3, 6, 5, 5, 56, 23]"
      ]
     },
     "execution_count": 42,
     "metadata": {},
     "output_type": "execute_result"
    }
   ],
   "source": [
    "queue.display()"
   ]
  },
  {
   "cell_type": "code",
   "execution_count": 53,
   "id": "ad0c9f13",
   "metadata": {},
   "outputs": [
    {
     "data": {
      "text/plain": [
       "True"
      ]
     },
     "execution_count": 53,
     "metadata": {},
     "output_type": "execute_result"
    }
   ],
   "source": [
    "queue.isempty()"
   ]
  },
  {
   "cell_type": "code",
   "execution_count": 52,
   "id": "b3179e76",
   "metadata": {},
   "outputs": [
    {
     "name": "stdout",
     "output_type": "stream",
     "text": [
      "que is empty\n"
     ]
    }
   ],
   "source": [
    "queue.dequeue()"
   ]
  },
  {
   "cell_type": "code",
   "execution_count": 55,
   "id": "ece9752b",
   "metadata": {},
   "outputs": [
    {
     "name": "stdout",
     "output_type": "stream",
     "text": [
      "no element\n"
     ]
    }
   ],
   "source": [
    "queue.peek_in_queue()"
   ]
  },
  {
   "cell_type": "code",
   "execution_count": 57,
   "id": "06692fab",
   "metadata": {},
   "outputs": [],
   "source": [
    "queue.delete_queue()"
   ]
  },
  {
   "cell_type": "code",
   "execution_count": 70,
   "id": "400f426f",
   "metadata": {},
   "outputs": [
    {
     "name": "stdout",
     "output_type": "stream",
     "text": [
      "Original stack: [15, 6, 7, 8, 9, 12]\n",
      "Reversed stack: [15, 6, 7, 8, 9, 12]\n"
     ]
    }
   ],
   "source": [
    "class Stack:\n",
    "    def __init__(self):\n",
    "        self.items = []\n",
    "\n",
    "    def is_empty(self):\n",
    "        return len(self.items) == 0\n",
    "\n",
    "    def push(self, item):\n",
    "        self.items.append(item)\n",
    "\n",
    "    def pop(self):\n",
    "        if not self.is_empty():\n",
    "            return self.items.pop()\n",
    "\n",
    "    def size(self):\n",
    "        return len(self.items)\n",
    "\n",
    "    def reverse(self):\n",
    "        if self.is_empty():\n",
    "            return\n",
    "\n",
    "        temp_stack = Stack()\n",
    "        while not self.is_empty():\n",
    "            temp_stack.push(self.pop())\n",
    "\n",
    "        while not temp_stack.is_empty():\n",
    "            self.push(temp_stack.pop())\n",
    "\n",
    "\n",
    "stack = Stack()\n",
    "stack.push(15)\n",
    "stack.push(6)\n",
    "stack.push(7)\n",
    "stack.push(8)\n",
    "stack.push(9)\n",
    "stack.push(12)\n",
    "\n",
    "print(\"Original stack:\", stack.items)\n",
    "\n",
    "stack.reverse()\n",
    "\n",
    "print(\"Reversed stack:\", stack.items)\n"
   ]
  },
  {
   "cell_type": "code",
   "execution_count": 190,
   "id": "a21d6b64",
   "metadata": {},
   "outputs": [
    {
     "name": "stdout",
     "output_type": "stream",
     "text": [
      "\n",
      " elements in the queue\n",
      "['x', 'y', 'z']\n",
      "\n",
      " element popped from queue\n",
      "z\n",
      "y\n",
      "x\n",
      "\n",
      " queue after pop\n",
      "[]\n"
     ]
    }
   ],
   "source": [
    "#implementing queue by list\n",
    "\n",
    "queue =[]\n",
    "\n",
    "queue.append(\"x\")\n",
    "queue.append(\"y\")\n",
    "queue.append(\"z\")\n",
    "\n",
    "print(\"\\n elements in the queue\")\n",
    "print(queue)\n",
    "\n",
    "print(\"\\n element popped from queue\")\n",
    "\n",
    "print(queue.pop())\n",
    "print(queue.pop())\n",
    "print(queue.pop())\n",
    "\n",
    "print(\"\\n queue after pop\")\n",
    "print(queue)"
   ]
  },
  {
   "cell_type": "code",
   "execution_count": 1,
   "id": "49f469c0",
   "metadata": {},
   "outputs": [
    {
     "name": "stdout",
     "output_type": "stream",
     "text": [
      "['apple', 'mango', 'kiwi']\n",
      "apple\n"
     ]
    }
   ],
   "source": [
    "que=[]\n",
    "que.append(\"apple\")\n",
    "que.append(\"mango\")\n",
    "que.append(\"kiwi\")\n",
    "print(que)\n",
    "\n",
    "print(que.pop(0))"
   ]
  },
  {
   "cell_type": "code",
   "execution_count": 3,
   "id": "ec6810e3",
   "metadata": {},
   "outputs": [
    {
     "name": "stdout",
     "output_type": "stream",
     "text": [
      "the length of the queue 4\n"
     ]
    }
   ],
   "source": [
    "#add a element in a queue is called enqueue\n",
    "\n",
    "class Queue():\n",
    "    def __init__(self):\n",
    "        self.queue=list()\n",
    "        \n",
    "    def add_element(self,val):\n",
    "        if val not in self.queue:\n",
    "            self.queue.insert(0,val)\n",
    "            return True\n",
    "        return False\n",
    "    \n",
    "    def size(self):\n",
    "        return len(self.queue)\n",
    "    \n",
    "q=Queue()\n",
    "q.add_element(\"a\")\n",
    "q.add_element(\"b\")\n",
    "q.add_element(\"c\")\n",
    "q.add_element(\"d\")\n",
    "\n",
    "print(\"the length of the queue\",q.size())\n",
    "\n"
   ]
  },
  {
   "cell_type": "code",
   "execution_count": 5,
   "id": "250603d3",
   "metadata": {},
   "outputs": [
    {
     "name": "stdout",
     "output_type": "stream",
     "text": [
      "<__main__.Queue object at 0x000001DA08FD0D00>\n",
      "jan\n",
      "feb\n"
     ]
    }
   ],
   "source": [
    "#removing element in a que is called deque\n",
    "\n",
    "class Queue():\n",
    "    def __init__(self):\n",
    "        self.queue=list()\n",
    "        \n",
    "    def add_element(self,val):\n",
    "        if val not in self.queue:\n",
    "            self.queue.insert(0,val)\n",
    "            return True\n",
    "        return False\n",
    "    def remove_element(self):\n",
    "        if len(self.queue)>0:\n",
    "            return self.queue.pop()\n",
    "        return \"queue is empty\"\n",
    "    \n",
    "q=Queue()\n",
    "q.add_element(\"jan\")\n",
    "q.add_element(\"feb\")\n",
    "q.add_element(\"mar\")\n",
    "q.add_element(\"apr\")\n",
    "\n",
    "print(q)\n",
    "print(q.remove_element())\n",
    "print(q.remove_element())"
   ]
  },
  {
   "cell_type": "code",
   "execution_count": 193,
   "id": "c052b5d4",
   "metadata": {},
   "outputs": [
    {
     "name": "stdout",
     "output_type": "stream",
     "text": [
      "\n",
      " initializing quue\n",
      "deque(['a', 'b', 'c'])\n",
      "\n",
      " element before popped\n",
      "a\n",
      "b\n",
      "c\n",
      "\n",
      " queue poped \n",
      "deque([])\n"
     ]
    }
   ],
   "source": [
    "#implementation of queue by using collections.deque\n",
    "\n",
    "#The collection.deque class is used to implement a double-ended queue that supports adding and removing \n",
    "#element from both ends. It takes O(1) time to complete the process.\n",
    "\n",
    "#The deque class can be used in both Queue and as stacks because it removes and adds elements effectively.\n",
    "\n",
    "#The collection.deque can be a good choice for queue data structure in Python's standard library.\n",
    "\n",
    "from collections import deque\n",
    "\n",
    "queue = deque()\n",
    "queue.append(\"a\")\n",
    "queue.append(\"b\")\n",
    "queue.append(\"c\")\n",
    "\n",
    "print(\"\\n initializing quue\")\n",
    "print(queue)\n",
    "\n",
    "print(\"\\n element before popped\")\n",
    "print(queue.popleft())\n",
    "print(queue.popleft())\n",
    "print(queue.popleft())\n",
    "\n",
    "print(\"\\n queue poped \")\n",
    "print(queue)"
   ]
  },
  {
   "cell_type": "code",
   "execution_count": 3,
   "id": "73136f93",
   "metadata": {},
   "outputs": [
    {
     "name": "stdout",
     "output_type": "stream",
     "text": [
      "deque(['apple', 'banana', 'mango'])\n",
      "apple\n",
      "banana\n",
      "mango\n"
     ]
    },
    {
     "ename": "IndexError",
     "evalue": "pop from an empty deque",
     "output_type": "error",
     "traceback": [
      "\u001b[1;31m---------------------------------------------------------------------------\u001b[0m",
      "\u001b[1;31mIndexError\u001b[0m                                Traceback (most recent call last)",
      "Cell \u001b[1;32mIn[3], line 14\u001b[0m\n\u001b[0;32m     11\u001b[0m \u001b[38;5;28mprint\u001b[39m(que\u001b[38;5;241m.\u001b[39mpopleft())\n\u001b[0;32m     12\u001b[0m \u001b[38;5;28mprint\u001b[39m(que\u001b[38;5;241m.\u001b[39mpopleft())\n\u001b[1;32m---> 14\u001b[0m \u001b[38;5;28mprint\u001b[39m(\u001b[43mque\u001b[49m\u001b[38;5;241;43m.\u001b[39;49m\u001b[43mpopleft\u001b[49m\u001b[43m(\u001b[49m\u001b[43m)\u001b[49m)\n",
      "\u001b[1;31mIndexError\u001b[0m: pop from an empty deque"
     ]
    }
   ],
   "source": [
    "from collections import deque\n",
    "\n",
    "que=deque()\n",
    "\n",
    "que.append(\"apple\")\n",
    "que.append(\"banana\")\n",
    "que.append(\"mango\")\n",
    "print(que)\n",
    "\n",
    "print(que.popleft())\n",
    "print(que.popleft())\n",
    "print(que.popleft())\n",
    "\n",
    "print(que.popleft())"
   ]
  },
  {
   "cell_type": "code",
   "execution_count": null,
   "id": "10a64264",
   "metadata": {},
   "outputs": [
    {
     "name": "stdout",
     "output_type": "stream",
     "text": [
      "<multiprocessing.queues.Queue object at 0x00000225EFB4EF80>\n",
      "a\n",
      "b\n",
      "c\n"
     ]
    }
   ],
   "source": [
    "from multiprocessing import Queue\n",
    "que=Queue()\n",
    "que.put(\"a\")\n",
    "que.put(\"b\")\n",
    "que.put(\"c\")\n",
    "print(que)\n",
    "\n",
    "print(que.get())\n",
    "print(que.get())\n",
    "print(que.get())\n",
    "\n",
    "print(que.get())"
   ]
  },
  {
   "cell_type": "code",
   "execution_count": null,
   "id": "f77361a5",
   "metadata": {},
   "outputs": [],
   "source": [
    "#implementing by using queue.queue\n",
    "\n",
    "Implementation using queue.Queue\n",
    "Queue is built-in module of Python which is used to implement a queue. queue.Queue(maxsize) initializes a \n",
    "variable to a maximum size of maxsize. A maxsize of zero ‘0’ means a infinite queue. This Queue follows FIFO rule. \n",
    "\n",
    " Python provides the queue module to implement multi-producer, multi-consumer queues.\n",
    " This is very useful in the parallel computing and multiprogramming\n",
    "\n",
    "There are various functions available in this module: \n",
    "    \n",
    "maxsize – Number of items allowed in the queue.\n",
    "\n",
    "empty() – \"This function is used to check whether a queue is empty or not. It returns true if queue is empty.\n",
    "            Return True if the queue is empty, False otherwise.\n",
    "\n",
    "full() – \"If the queue is full returns true; otherwise false.,Return True if there are maxsize items in the queue. \n",
    "          If the queue was initialized with maxsize=0 (the default), then full() never returns True.\n",
    "\n",
    "get() –\"This function is used to extract the element from the queue.\" Remove and return an item from the queue. \n",
    "        If queue is empty, wait until an item is available.\n",
    "\n",
    "get_nowait() – Return an item if one is immediately available, else raise QueueEmpty.\n",
    "\n",
    "put(item) – \"This function is used to insert element to the queue.\",Put an item into the queue. If the queue is full, \n",
    "           wait until a free slot is available before adding the item.\n",
    "\n",
    "put_nowait(item) – Put an item into the queue without blocking. If no free slot is immediately available, raise QueueFull.\n",
    "\n",
    "qsize() – This function returns the length of the queue. \"Return the number of items in the queue."
   ]
  },
  {
   "cell_type": "code",
   "execution_count": 198,
   "id": "9c3bf1e5",
   "metadata": {},
   "outputs": [
    {
     "name": "stdout",
     "output_type": "stream",
     "text": [
      "0\n",
      "\n",
      "Full: True\n",
      "\n",
      " elements dequed fom the list\n",
      "a\n",
      "b\n",
      "c\n",
      "\n",
      "Empty: True\n",
      "\n",
      "Empty: False\n",
      "\n",
      "Full: False\n"
     ]
    }
   ],
   "source": [
    "from queue import Queue\n",
    "q= Queue(maxsize=3)\n",
    "print(q.qsize())\n",
    "\n",
    "q.put(\"a\")\n",
    "q.put(\"b\")\n",
    "q.put(\"c\")\n",
    "\n",
    "print(\"\\nFull:\", q.full())\n",
    "print(\"\\n elements dequed fom the list\")\n",
    "print(q.get())\n",
    "print(q.get())\n",
    "print(q.get())\n",
    "\n",
    "print(\"\\nEmpty:\",q.empty())\n",
    "\n",
    "q.put(1)\n",
    "print(\"\\nEmpty:\",q.empty())\n",
    "print(\"\\nFull:\",q.full())"
   ]
  },
  {
   "cell_type": "code",
   "execution_count": 1,
   "id": "e4dfd109",
   "metadata": {},
   "outputs": [
    {
     "name": "stdout",
     "output_type": "stream",
     "text": [
      "<queue.Queue object at 0x000001D71A8CF940>\n",
      "app\n",
      "or\n",
      "ss\n"
     ]
    },
    {
     "ename": "Empty",
     "evalue": "",
     "output_type": "error",
     "traceback": [
      "\u001b[1;31m---------------------------------------------------------------------------\u001b[0m",
      "\u001b[1;31mEmpty\u001b[0m                                     Traceback (most recent call last)",
      "Cell \u001b[1;32mIn[1], line 15\u001b[0m\n\u001b[0;32m     12\u001b[0m \u001b[38;5;28mprint\u001b[39m(que\u001b[38;5;241m.\u001b[39mget())\n\u001b[0;32m     13\u001b[0m \u001b[38;5;28mprint\u001b[39m(que\u001b[38;5;241m.\u001b[39mget())\n\u001b[1;32m---> 15\u001b[0m \u001b[38;5;28mprint\u001b[39m(\u001b[43mque\u001b[49m\u001b[38;5;241;43m.\u001b[39;49m\u001b[43mget_nowait\u001b[49m\u001b[43m(\u001b[49m\u001b[43m)\u001b[49m)\n\u001b[0;32m     16\u001b[0m \u001b[38;5;28mprint\u001b[39m(que\u001b[38;5;241m.\u001b[39mget())\n",
      "File \u001b[1;32m~\\Documents\\Python Scripts\\lib\\queue.py:199\u001b[0m, in \u001b[0;36mQueue.get_nowait\u001b[1;34m(self)\u001b[0m\n\u001b[0;32m    193\u001b[0m \u001b[38;5;28;01mdef\u001b[39;00m \u001b[38;5;21mget_nowait\u001b[39m(\u001b[38;5;28mself\u001b[39m):\n\u001b[0;32m    194\u001b[0m     \u001b[38;5;124;03m'''Remove and return an item from the queue without blocking.\u001b[39;00m\n\u001b[0;32m    195\u001b[0m \n\u001b[0;32m    196\u001b[0m \u001b[38;5;124;03m    Only get an item if one is immediately available. Otherwise\u001b[39;00m\n\u001b[0;32m    197\u001b[0m \u001b[38;5;124;03m    raise the Empty exception.\u001b[39;00m\n\u001b[0;32m    198\u001b[0m \u001b[38;5;124;03m    '''\u001b[39;00m\n\u001b[1;32m--> 199\u001b[0m     \u001b[38;5;28;01mreturn\u001b[39;00m \u001b[38;5;28;43mself\u001b[39;49m\u001b[38;5;241;43m.\u001b[39;49m\u001b[43mget\u001b[49m\u001b[43m(\u001b[49m\u001b[43mblock\u001b[49m\u001b[38;5;241;43m=\u001b[39;49m\u001b[38;5;28;43;01mFalse\u001b[39;49;00m\u001b[43m)\u001b[49m\n",
      "File \u001b[1;32m~\\Documents\\Python Scripts\\lib\\queue.py:168\u001b[0m, in \u001b[0;36mQueue.get\u001b[1;34m(self, block, timeout)\u001b[0m\n\u001b[0;32m    166\u001b[0m \u001b[38;5;28;01mif\u001b[39;00m \u001b[38;5;129;01mnot\u001b[39;00m block:\n\u001b[0;32m    167\u001b[0m     \u001b[38;5;28;01mif\u001b[39;00m \u001b[38;5;129;01mnot\u001b[39;00m \u001b[38;5;28mself\u001b[39m\u001b[38;5;241m.\u001b[39m_qsize():\n\u001b[1;32m--> 168\u001b[0m         \u001b[38;5;28;01mraise\u001b[39;00m Empty\n\u001b[0;32m    169\u001b[0m \u001b[38;5;28;01melif\u001b[39;00m timeout \u001b[38;5;129;01mis\u001b[39;00m \u001b[38;5;28;01mNone\u001b[39;00m:\n\u001b[0;32m    170\u001b[0m     \u001b[38;5;28;01mwhile\u001b[39;00m \u001b[38;5;129;01mnot\u001b[39;00m \u001b[38;5;28mself\u001b[39m\u001b[38;5;241m.\u001b[39m_qsize():\n",
      "\u001b[1;31mEmpty\u001b[0m: "
     ]
    }
   ],
   "source": [
    "from queue import Queue\n",
    "\n",
    "que = Queue()\n",
    "\n",
    "que.put(\"app\")\n",
    "que.put(\"or\")\n",
    "que.put(\"ss\")\n",
    "\n",
    "print(que)\n",
    "\n",
    "print(que.get())\n",
    "print(que.get())\n",
    "print(que.get())\n",
    "\n",
    "print(que.get_nowait())\n",
    "print(que.get())"
   ]
  },
  {
   "cell_type": "code",
   "execution_count": null,
   "id": "0a44fa6a",
   "metadata": {},
   "outputs": [],
   "source": [
    "#A priority queue\n",
    "\n",
    "is a special type of queue in the data-structure. As the name suggest, it sorts the elements and dequeues\n",
    "the elements based on their priorities.\n",
    "\n",
    "For example - An operating system task is the best example of a priority queue - It executes the high precedence over\n",
    "lower-priority tasks (downloading updates in the background). The task scheduler can allow the highest-priority tasks \n",
    "to run first."
   ]
  },
  {
   "cell_type": "code",
   "execution_count": 1,
   "id": "008a9c12",
   "metadata": {},
   "outputs": [
    {
     "name": "stdout",
     "output_type": "stream",
     "text": [
      "(1, 'mango')\n",
      "(2, 'banana')\n",
      "(3, 'apple')\n"
     ]
    }
   ],
   "source": [
    "pri_que=[]\n",
    "\n",
    "pri_que.append((1,\"mango\"))\n",
    "pri_que.append((3,\"apple\"))\n",
    "pri_que.append((2,\"banana\"))\n",
    "\n",
    "pri_que.sort(reverse=True)\n",
    "\n",
    "while pri_que:\n",
    "    next_item=pri_que.pop()\n",
    "    print(next_item)\n",
    "\n"
   ]
  },
  {
   "cell_type": "code",
   "execution_count": 2,
   "id": "4d2bd8b2",
   "metadata": {},
   "outputs": [
    {
     "name": "stdout",
     "output_type": "stream",
     "text": [
      "(1, 'apple')\n",
      "(2, 'banana')\n",
      "(3, 'mango')\n"
     ]
    }
   ],
   "source": [
    "pri_que=[]\n",
    "\n",
    "pri_que.append((3,\"mango\"))\n",
    "pri_que.append((1,\"apple\"))\n",
    "pri_que.append((2,\"banana\"))\n",
    "\n",
    "pri_que.sort(reverse=True)\n",
    "\n",
    "while pri_que:\n",
    "    next_item=pri_que.pop()\n",
    "    print(next_item)\n",
    "\n"
   ]
  },
  {
   "cell_type": "code",
   "execution_count": 9,
   "id": "f68559a6",
   "metadata": {},
   "outputs": [
    {
     "name": "stdout",
     "output_type": "stream",
     "text": [
      "(1, 'qui')\n",
      "(2, 'mango')\n",
      "(3, 'apple')\n"
     ]
    }
   ],
   "source": [
    "from queue import PriorityQueue\n",
    "\n",
    "q= PriorityQueue()\n",
    "\n",
    "q.put((2,\"mango\"))\n",
    "q.put((3,\"apple\"))\n",
    "q.put((1,\"qui\"))\n",
    "\n",
    "\n",
    "\n",
    "while not q.empty():\n",
    "    next_item = q.get()\n",
    "    print(next_item)\n",
    "    "
   ]
  },
  {
   "cell_type": "markdown",
   "id": "1aca1da5",
   "metadata": {},
   "source": [
    "# linked list"
   ]
  },
  {
   "cell_type": "code",
   "execution_count": null,
   "id": "e52fc12d",
   "metadata": {},
   "outputs": [],
   "source": [
    " In simple words, a linked list consists of nodes where each node contains a data field and a reference(link) to the next node \n",
    "    in the list.\n",
    "    \n",
    "    \n",
    " Linked List is a linear data structure, in which elements are not stored at a contiguous location, rather they are linked \n",
    "using pointers. Linked List forms a series of connected nodes, where each node stores the data and the address of the next node.\n",
    "\n",
    "\n",
    " Node Structure: A node in a linked list typically consists of two components:\n",
    "Data: It holds the actual value or data associated with the node.\n",
    "    \n",
    "Next Pointer: It stores the memory address (reference) of the next node in the sequence.\n",
    "    \n",
    "Head and Tail: The linked list is accessed through the head node, which points to the first node in the list. The last node in \n",
    "    the list points to NULL or nullptr, indicating the end of the list. This node is known as the tail node.\n",
    "    \n",
    " There are mainly three types of linked lists:\n",
    "\n",
    "Single-linked list\n",
    "Double linked list\n",
    "Circular linked list\n",
    "\n",
    "1. Single-linked list:\n",
    "In a singly linked list, each node contains a reference to the next node in the sequence. Traversing a singly linked list is\n",
    "done in a forward direction.\n",
    "\n",
    "\n",
    "\n",
    "2. Double-linked list:\n",
    "In a doubly linked list, each node contains references to both the next and previous nodes. This allows for traversal in \n",
    "both forward and backward directions, but it requires additional memory for the backward reference.\n",
    "\n",
    "3. Circular linked list:\n",
    " In a circular linked list, the last node points back to the head node, creating a circular structure. It can be either\n",
    "singly or doubly linked.\n",
    "\n",
    "Circular linked list\n",
    "It is basically chains of nodes, each node contains information such as data and a pointer to the next node in the chain.\n",
    "In the linked list there is a head pointer, which points to the first element of the linked list, and if the list is empty \n",
    "then it simply points to null or nothing.\n",
    " \n",
    "\n",
    "\n",
    "LINKED_LIST:-- A linked list is a sequence where each node point towards the next one in the sequence and contains data\n",
    "    points at each nodes.\n",
    "\n",
    "\n",
    "#types of linked list:\n",
    "    \n",
    "     1.singly linked list --- last node ponit into null\n",
    "     2.double linked list---- addition node points towards previous\n",
    "     3.circular linked list---- last node aways points first node or head nnode of the linked list\n",
    "\n",
    "\n",
    "\n",
    "\n",
    "\n",
    "\n",
    "\n",
    "\n",
    "\n",
    "insert the element at the beginning O(1)\n",
    "insert the element at the end O(n)\n",
    "\n",
    "delete the element at the beginning O(1)\n",
    "delete the element at the end O(n)\n",
    "\n",
    "lined list traversal = O(n)\n",
    "accessing element by value = O(n)\n",
    "\n",
    "\n",
    "#benifits of lined list:\n",
    "   we dont need to pre allocate space \n",
    "    insrtion is easier \n",
    "    \n",
    "#double lined list:\n",
    "it link with both previous and next elements"
   ]
  },
  {
   "cell_type": "code",
   "execution_count": null,
   "id": "81c6d748",
   "metadata": {},
   "outputs": [],
   "source": [
    "class node:\n",
    "    def __init__(self,data):\n",
    "        self.info = data\n",
    "        self.next = None   \n",
    "        \n",
    "class linked_list:\n",
    "    def __init__(self,head):\n",
    "        self.head=head\n",
    "        \n",
    "    def insert_begin(self,value):\n",
    "        if self.head == None:\n",
    "            self.head =node(value)\n",
    "        else:\n",
    "            new_node =node(data)\n",
    "            new_node.next=self.head\n",
    "            self.head = new_node\n",
    "            \n",
    "    def insert_end(self,data):\n",
    "        new_node =node(data)\n",
    "        if self.head is None:\n",
    "            self.head = new_node\n",
    "            \n",
    "        else:\n",
    "            current_node = self.head\n",
    "            \n",
    "            while current_node.next is not None:\n",
    "                current_node = current_node.next\n",
    "                \n",
    "            current_node.next =new_node\n",
    "    def display_linked_list\n",
    "        "
   ]
  },
  {
   "cell_type": "code",
   "execution_count": 12,
   "id": "70920b40",
   "metadata": {},
   "outputs": [],
   "source": [
    "class node:\n",
    "    def __init__(self, data):\n",
    "        self.info = data\n",
    "        self.next = None   \n",
    "\n",
    "class linked_list:\n",
    "    def __init__(self, head=None):\n",
    "        self.head = head\n",
    "\n",
    "    def insert_begin(self, value):\n",
    "        if self.head is None:\n",
    "            self.head = node(value)\n",
    "        else:\n",
    "            new_node = node(value)\n",
    "            new_node.next = self.head\n",
    "            self.head = new_node\n",
    "\n",
    "    def insert_end(self, data):\n",
    "        new_node = node(data)\n",
    "        if self.head is None:\n",
    "            self.head = new_node\n",
    "        else:\n",
    "            current_node = self.head\n",
    "            while current_node.next is not None:\n",
    "                current_node = current_node.next\n",
    "            current_node.next = new_node\n",
    "\n",
    "    def display_linked_list(self):\n",
    "        if self.head is None:\n",
    "            print(\"Linked list is empty.\")\n",
    "        else:\n",
    "            current_node = self.head\n",
    "            while current_node is not None:\n",
    "                print(current_node.info, end=\" \")\n",
    "                current_node = current_node.next\n",
    "            print()\n"
   ]
  },
  {
   "cell_type": "code",
   "execution_count": 11,
   "id": "e799f4f7",
   "metadata": {},
   "outputs": [
    {
     "name": "stdout",
     "output_type": "stream",
     "text": [
      "90\n",
      "30\n",
      "90\n"
     ]
    }
   ],
   "source": [
    "#create a linked list\n",
    "\n",
    "class node:\n",
    "    def __init__(self,data, next=None):\n",
    "        self.data = data\n",
    "        self.next = next\n",
    "        \n",
    "class linked_list:\n",
    "    def __init__(self,head = None):\n",
    "        self.head = head\n",
    "        \n",
    "#adding a element\n",
    "\n",
    "    def add(self,data):\n",
    "        new = node(data)\n",
    "        if (self.head):\n",
    "            temp = self.head\n",
    "            while (temp.next != None):\n",
    "                temp = temp.next\n",
    "            temp.next = new\n",
    "        else:\n",
    "            self.head = new\n",
    " #printing a element           \n",
    "    def list(self,first=None):\n",
    "        self.first=first\n",
    "        first = self.head\n",
    "        while(first):\n",
    "            print(first.data)\n",
    "            first=first.next\n",
    "\n",
    "o=linked_list()\n",
    "o.add(90)\n",
    "o.add(30)\n",
    "o.add(90)\n",
    "o.list()"
   ]
  },
  {
   "cell_type": "code",
   "execution_count": null,
   "id": "528ee55e",
   "metadata": {},
   "outputs": [],
   "source": [
    "#inserting values in a linked list- in the beginning\n",
    "\n",
    "class node:\n",
    "    def __init__(self,data, next=None):\n",
    "        self.data=data\n",
    "        self.next = next\n",
    "        \n",
    "class linked_list:\n",
    "    def __init__(self,head):\n",
    "        self.head = head\n",
    "        \n",
    "    def push(self,new_data):\n",
    "        new_node = none(new_data):\n",
    "        new_node.next = self.head                         #single linked list\n",
    "        self.head=new_node3\n",
    "        \n",
    "    def inserting_after(self,prev_node,data):\n",
    "        if prev_node is None:\n",
    "            print(\"no\")\n",
    "            return\n",
    "        new_node = node(data)\n",
    "        new_node.next=prev_node.next\n",
    "        prev_node.next = new_node\n",
    "        \n",
    "        \n",
    "    def append(self,data):\n",
    "        new_mode = node(data)\n",
    "        if self.head is None:\n",
    "            self.head = new_node\n",
    "            return\n",
    "        last = self.head\n",
    "        while (last.next):\n",
    "            last = last.next\n",
    "            \n",
    "        last.next = new_node"
   ]
  },
  {
   "cell_type": "markdown",
   "id": "13a5c93a",
   "metadata": {},
   "source": [
    "# linked list\n",
    "\n",
    "\n",
    "A linked list is a sequence of data elements, which are connected together via links. \n",
    "Each data element contains a connection to another data element in form of a pointer. Python does not have linked lists in its standard library. We implement the concept of linked lists using the concept of nodes.\n",
    "\n",
    "Advantages of Linked Lists over arrays:\n",
    "\n",
    "     .Ease of Insertion/Deletion.\n",
    "\n",
    "Drawbacks of Linked Lists:\n",
    "\n",
    "       .Random access is not allowed. We have to access elements sequentially starting from the first node(head node). \n",
    "        So we cannot do search with linked lists efficiently with its default implementation.\n",
    "\n",
    "       .Extra memory space for a pointer is required with each element of the list.\n",
    "    \n",
    "       .Direct access to an element is not possible in a linked list as in an array by index.\n",
    "\n",
    "        Not cache friendly. Since array elements are contiguous locations, there is locality of reference which is not there in         case of linked lists.\n",
    "\n",
    "        It takes a lot of time in traversing and changing the pointers.\n",
    "\n",
    "        Reverse traversing is not possible in singly linked lists.\n",
    "\n",
    "        It will be confusing when we work with pointers.\n",
    "\n",
    "        Searching an element is costly and requires O(n) time complexity.\n",
    "\n",
    "        Sorting of linked list is very complex and costly.\n",
    "\n"
   ]
  },
  {
   "cell_type": "markdown",
   "id": "3cd98721",
   "metadata": {},
   "source": [
    "# creation of linked list\n",
    "\n",
    "\n",
    "A linked list is represented by a pointer to the first node of the linked list. The first node is called the head of the linked list. If the linked list is empty, then the value of the head points to NULL.\n",
    "\n",
    "Each node in a list consists of at least two parts:\n",
    "\n",
    "    A Data Item (we can store integer, strings, or any type of data).\n",
    "\n",
    "    Pointer (Or Reference) to the next node (connects one node to another) or An address of another node"
   ]
  },
  {
   "cell_type": "code",
   "execution_count": 27,
   "id": "f2da5288",
   "metadata": {},
   "outputs": [],
   "source": [
    "# camelcascading\n",
    "\n",
    "#initialization, assignment: whenever we define a variable for first time, it is initizalization \n",
    "# whenever we define a variable  apartfrom first time, it is assignment \n",
    "class Node:\n",
    "    \n",
    "    def __init__(self, data):\n",
    "        self.data = data\n",
    "        self.next = None\n",
    "\n",
    "class LinkedList:\n",
    "    \n",
    "    def _init_(self):\n",
    "        self.head = None\n",
    "        \n",
    "ll = LinkedList()\n",
    "ll.head = Node(10)\n",
    "n2 = Node(20)\n",
    "n3 = Node(30)\n",
    "\n",
    "ll.head.next = n2\n",
    "n2.next = n3"
   ]
  },
  {
   "cell_type": "markdown",
   "id": "7b67f80a",
   "metadata": {},
   "source": [
    "# Traversing a Linked List\n",
    "\n",
    "Traversing a Linked List\n",
    "Singly linked lists can be traversed in only forward direction starting form the first data element. \n",
    "We simply print the value of the next data element by assigning the pointer of the next node to the current data element"
   ]
  },
  {
   "cell_type": "code",
   "execution_count": 28,
   "id": "fa1bf68e",
   "metadata": {},
   "outputs": [
    {
     "name": "stdout",
     "output_type": "stream",
     "text": [
      "10\n",
      "20\n",
      "30\n"
     ]
    }
   ],
   "source": [
    "class Node:\n",
    "    \n",
    "    def __init__(self, data):\n",
    "        self.data = data\n",
    "        self.next = None\n",
    "\n",
    "class LinkedList:\n",
    "    \n",
    "    def __init__(self):\n",
    "        self.head = None\n",
    "        \n",
    "    def llistprint(self):\n",
    "        printval = self.head\n",
    "        \n",
    "        while printval is not None:\n",
    "            print(printval.data)\n",
    "            printval = printval.next\n",
    "            \n",
    "        \n",
    "ll = LinkedList()\n",
    "ll.head = Node(10)\n",
    "n2 = Node(20)\n",
    "n3 = Node(30)\n",
    "\n",
    "ll.head.next = n2\n",
    "n2.next = n3\n",
    "\n",
    "ll.llistprint()"
   ]
  },
  {
   "cell_type": "code",
   "execution_count": null,
   "id": "433fdc60",
   "metadata": {},
   "outputs": [],
   "source": [
    "#INSERTION IN LINKED LIST\n",
    "Inserting element in the linked list involves reassigning the pointers from the existing nodes to the newly inserted node.\n",
    "Depending on whether the new data element is getting inserted at the beginning or at the middle or at the end of the\n",
    "linked list, we have the below scenarios.\n",
    "\n",
    "Inserting at the Beginning\n",
    "\n"
   ]
  },
  {
   "cell_type": "code",
   "execution_count": 29,
   "id": "f41b8490",
   "metadata": {},
   "outputs": [
    {
     "name": "stdout",
     "output_type": "stream",
     "text": [
      "initial linked list:\n",
      "10\n",
      "20\n",
      "30\n",
      "after insertion at beginning:\n",
      "5\n",
      "10\n",
      "20\n",
      "30\n"
     ]
    }
   ],
   "source": [
    "\n",
    "class Node:\n",
    "    \n",
    "    def __init__(self, data):\n",
    "        self.data = data\n",
    "        self.next = None\n",
    "\n",
    "class LinkedList:\n",
    "    \n",
    "    def __init__(self):\n",
    "        self.head = None\n",
    "        \n",
    "    def llistprint(self):\n",
    "        printval = self.head\n",
    "        \n",
    "        while printval is not None:\n",
    "            print(printval.data)\n",
    "            printval = printval.next\n",
    "            \n",
    "    def insert_at_beginning(self, new_data):\n",
    "        new_node = Node(new_data)\n",
    "        new_node.next = self.head\n",
    "        self.head = new_node\n",
    "        \n",
    "        \n",
    "ll = LinkedList()\n",
    "ll.head = Node(10)\n",
    "n2 = Node(20)\n",
    "n3 = Node(30)\n",
    "\n",
    "ll.head.next = n2\n",
    "n2.next = n3\n",
    "\n",
    "print(\"initial linked list:\")\n",
    "ll.llistprint()\n",
    "\n",
    "print(\"after insertion at beginning:\")\n",
    "ll.insert_at_beginning(5)\n",
    "ll.llistprint()"
   ]
  },
  {
   "cell_type": "markdown",
   "id": "8655a5ed",
   "metadata": {},
   "source": [
    "# Inserting at the end"
   ]
  },
  {
   "cell_type": "code",
   "execution_count": 30,
   "id": "3d8f6e27",
   "metadata": {},
   "outputs": [
    {
     "name": "stdout",
     "output_type": "stream",
     "text": [
      "initial linked list:\n",
      "10\n",
      "20\n",
      "30\n",
      "after insertion at beginning:\n",
      "5\n",
      "10\n",
      "20\n",
      "30\n",
      "after inserrtion at end:\n",
      "5\n",
      "10\n",
      "20\n",
      "30\n",
      "40\n"
     ]
    }
   ],
   "source": [
    "\n",
    "class Node:\n",
    "    \n",
    "    def __init__(self, data):\n",
    "        self.data = data\n",
    "        self.next = None\n",
    "\n",
    "class LinkedList:\n",
    "    \n",
    "    def __init__(self):\n",
    "        self.head = None\n",
    "        \n",
    "    def llistprint(self):\n",
    "        printval = self.head\n",
    "        \n",
    "        while printval is not None:\n",
    "            print(printval.data)\n",
    "            printval = printval.next\n",
    "            \n",
    "    def insert_at_beginning(self, new_data):\n",
    "        new_node = Node(new_data)\n",
    "        new_node.next = self.head\n",
    "        self.head = new_node\n",
    "        \n",
    "    def insert_at_end(self, new_data):\n",
    "        # creating a new node\n",
    "        new_node = Node(new_data)\n",
    "        \n",
    "        # check if linked list is empty\n",
    "        if self.head is None:\n",
    "            self.head = new_node\n",
    "        \n",
    "        # traverse through the entire linked list to reach to the end of linked list\n",
    "        # b'coz random accessing of elements isn't possible in linked list\n",
    "        curr_last_node = self.head\n",
    "        \n",
    "        # traversal of linked list, the loop will terminate when it reaches to the end of linked list\n",
    "        while(curr_last_node.next):\n",
    "            curr_last_node = curr_last_node.next\n",
    "            \n",
    "        # create linkage, i.e., updating the last node pointer of linked list to point to new node\n",
    "        curr_last_node.next = new_node\n",
    "        \n",
    "        \n",
    "ll = LinkedList()\n",
    "ll.head = Node(10)\n",
    "n2 = Node(20)\n",
    "n3 = Node(30)\n",
    "\n",
    "ll.head.next = n2\n",
    "n2.next = n3\n",
    "\n",
    "print(\"initial linked list:\")\n",
    "ll.llistprint()\n",
    "\n",
    "print(\"after insertion at beginning:\")\n",
    "ll.insert_at_beginning(5)\n",
    "ll.llistprint()\n",
    "\n",
    "ll.insert_at_end(40)\n",
    "print(\"after inserrtion at end:\")\n",
    "ll.llistprint()"
   ]
  },
  {
   "cell_type": "markdown",
   "id": "905370ed",
   "metadata": {},
   "source": [
    "# Inserting in between"
   ]
  },
  {
   "cell_type": "code",
   "execution_count": 32,
   "id": "8b54cd2b",
   "metadata": {},
   "outputs": [
    {
     "name": "stdout",
     "output_type": "stream",
     "text": [
      "initial linked list:\n",
      "10\n",
      "20\n",
      "30\n",
      "after insertion at beginning:\n",
      "5\n",
      "10\n",
      "20\n",
      "30\n",
      "after inserrtion at end:\n",
      "5\n",
      "10\n",
      "20\n",
      "30\n",
      "40\n",
      "after insertion in between: \n",
      "5\n",
      "10\n",
      "20\n",
      "25\n",
      "30\n",
      "40\n"
     ]
    }
   ],
   "source": [
    "class node:\n",
    "    \n",
    "    def __init__(self, data):\n",
    "        self.data = data\n",
    "        self.next = None\n",
    "\n",
    "class LinkedList:\n",
    "    \n",
    "    def __init__(self):\n",
    "        self.head = None\n",
    "        \n",
    "    def llistprint(self):\n",
    "        printval = self.head\n",
    "        \n",
    "        while printval is not None:\n",
    "            print(printval.data)\n",
    "            printval = printval.next\n",
    "            \n",
    "    def insert_at_beginning(self, new_data):\n",
    "        new_node = Node(new_data)\n",
    "        new_node.next = self.head\n",
    "        self.head = new_node\n",
    "        \n",
    "    def insert_at_end(self, new_data):\n",
    "        # creating a new node\n",
    "        new_node = Node(new_data)\n",
    "        \n",
    "        # check if linked list is empty\n",
    "        if self.head is None:\n",
    "            self.head = new_node\n",
    "        \n",
    "        # traverse through the entire linked list to reach to the end of linked list\n",
    "        # b'coz random accessing of elements isn't possible in linked list\n",
    "        curr_last_node = self.head\n",
    "        \n",
    "        # traversal of linked list, the loop will terminate when it reaches to the end of linked list\n",
    "        while(curr_last_node.next):\n",
    "            curr_last_node = curr_last_node.next\n",
    "            \n",
    "        # create linkage, i.e., updating the last node pointer of linked list to point to new node\n",
    "        curr_last_node.next = new_node\n",
    "        \n",
    "    def insert_at_between(self, new_data, prev_node):\n",
    "        # param: prev_node tells that after which node insertion is to be done\n",
    "        \n",
    "        if prev_node is None:\n",
    "            print(\"The node is absent\")\n",
    "            return\n",
    "        \n",
    "        # create new node\n",
    "        new_node = Node(new_data)\n",
    "        # creating connections/linkages\n",
    "        new_node.next = prev_node.next\n",
    "        prev_node.next = new_node\n",
    "        \n",
    "        \n",
    "        \n",
    "ll = LinkedList()\n",
    "ll.head = Node(10)\n",
    "n2 = Node(20)\n",
    "n3 = Node(30)\n",
    "\n",
    "ll.head.next = n2\n",
    "n2.next = n3\n",
    "\n",
    "print(\"initial linked list:\")\n",
    "ll.llistprint()\n",
    "\n",
    "print(\"after insertion at beginning:\")\n",
    "ll.insert_at_beginning(5)\n",
    "ll.llistprint()\n",
    "\n",
    "ll.insert_at_end(40)\n",
    "print(\"after inserrtion at end:\")\n",
    "ll.llistprint()\n",
    "\n",
    "ll.insert_at_between(25, (ll.head.next).next)\n",
    "print(\"after insertion in between: \")\n",
    "ll.llistprint()"
   ]
  },
  {
   "cell_type": "markdown",
   "id": "e74d6a2a",
   "metadata": {},
   "source": [
    "\n",
    "# removing an item\n",
    "\n",
    "We can remove an existing node using the key for that node. In the below program we locate the previous node of the node which is to be deleted.Then, point the next pointer of this node to the next node of the node to be deleted.\n"
   ]
  },
  {
   "cell_type": "code",
   "execution_count": 33,
   "id": "830ba004",
   "metadata": {},
   "outputs": [
    {
     "name": "stdout",
     "output_type": "stream",
     "text": [
      "initial linked list:\n",
      "10\n",
      "20\n",
      "30\n",
      "after insertion at beginning:\n",
      "5\n",
      "10\n",
      "20\n",
      "30\n",
      "after inserrtion at end:\n",
      "5\n",
      "10\n",
      "20\n",
      "30\n",
      "40\n",
      "after insertion in between: \n",
      "5\n",
      "10\n",
      "20\n",
      "25\n",
      "30\n",
      "40\n",
      "after deletion:\n",
      "5\n",
      "10\n",
      "20\n",
      "30\n",
      "40\n"
     ]
    }
   ],
   "source": [
    "\n",
    "class Node:\n",
    "    \n",
    "    def __init__(self, data):\n",
    "        self.data = data\n",
    "        self.next = None\n",
    "\n",
    "class LinkedList:\n",
    "    \n",
    "    def __init__(self):\n",
    "        self.head = None\n",
    "        \n",
    "    def llistprint(self):\n",
    "        printval = self.head\n",
    "        \n",
    "        while printval is not None:\n",
    "            print(printval.data)\n",
    "            printval = printval.next\n",
    "            \n",
    "    def insert_at_beginning(self, new_data):\n",
    "        new_node = Node(new_data)\n",
    "        new_node.next = self.head\n",
    "        self.head = new_node\n",
    "        \n",
    "    def insert_at_end(self, new_data):\n",
    "        # creating a new node\n",
    "        new_node = Node(new_data)\n",
    "        \n",
    "        # check if linked list is empty\n",
    "        if self.head is None:\n",
    "            self.head = new_node\n",
    "        \n",
    "        # traverse through the entire linked list to reach to the end of linked list\n",
    "        # b'coz random accessing of elements isn't possible in linked list\n",
    "        curr_last_node = self.head\n",
    "        \n",
    "        # traversal of linked list, the loop will terminate when it reaches to the end of linked list\n",
    "        while(curr_last_node.next):\n",
    "            curr_last_node = curr_last_node.next\n",
    "            \n",
    "        # create linkage, i.e., updating the last node pointer of linked list to point to new node\n",
    "        curr_last_node.next = new_node\n",
    "        \n",
    "    def insert_at_between(self, new_data, prev_node):\n",
    "        # param: prev_node tells that after which node insertion is to be done\n",
    "        \n",
    "        if prev_node is None:\n",
    "            print(\"The node is absent\")\n",
    "            return\n",
    "        \n",
    "        # create new node\n",
    "        new_node = Node(new_data)\n",
    "        # creating connections/linkages\n",
    "        new_node.next = prev_node.next\n",
    "        prev_node.next = new_node\n",
    "        \n",
    "        \n",
    "    def delete_node(self, key):\n",
    "        \n",
    "        # creating variable for traversal through linked list\n",
    "        temp = self.head\n",
    "        \n",
    "        # if head node itself holds the key to be deleted\n",
    "        if(temp is not None):\n",
    "            if (temp.data == key):\n",
    "                self.head = temp.next\n",
    "                temp = None\n",
    "                return\n",
    "            \n",
    "        # search for the key to be deleted, keep track of the previous node(create anothervar.: prev) as we need to\n",
    "        #change prev.next\n",
    "        while(temp is not None):\n",
    "            if temp.data == key:\n",
    "                break\n",
    "            # creating 'prev' var. to keep track of the previous node\n",
    "            prev = temp\n",
    "            temp = temp.next\n",
    "            \n",
    "        # if key wasn't present in the linked list\n",
    "        if(temp == None):\n",
    "            return\n",
    "        \n",
    "        #  link the node from linked list\n",
    "        prev.next = temp.next\n",
    "        # writing below line to remove the key node connection from linked list\n",
    "        temp = None\n",
    "        \n",
    "        \n",
    "ll = LinkedList()\n",
    "ll.head = Node(10)\n",
    "n2 = Node(20)\n",
    "n3 = Node(30)\n",
    "\n",
    "ll.head.next = n2\n",
    "n2.next = n3\n",
    "\n",
    "print(\"initial linked list:\")\n",
    "ll.llistprint()\n",
    "\n",
    "print(\"after insertion at beginning:\")\n",
    "ll.insert_at_beginning(5)\n",
    "ll.llistprint()\n",
    "\n",
    "ll.insert_at_end(40)\n",
    "print(\"after inserrtion at end:\")\n",
    "ll.llistprint()\n",
    "\n",
    "ll.insert_at_between(25, (ll.head.next).next)\n",
    "print(\"after insertion in between: \")\n",
    "ll.llistprint()\n",
    "\n",
    "ll.delete_node(25)\n",
    "print(\"after deletion:\")\n",
    "ll.llistprint()\n"
   ]
  },
  {
   "cell_type": "markdown",
   "id": "6139160e",
   "metadata": {},
   "source": [
    "# time complexity\n",
    "\n",
    "time complexity describes the amount of time a program/algoritm takes to execute\n",
    "Time Complexity considers how many times each statement executes.\n",
    "\n",
    "its commonly estimated by counting the number of operations performed by the program supposing that each operation will take a \n",
    "fixed amount of time to perform.\n",
    "\n",
    "\n",
    "\n",
    "#cases\n",
    "\n",
    "three cases are observed when calcuating the time complexity\n",
    "\n",
    "1. best case scenario (omega): it is the scenario when the algorithm takes minimum amount of time to execute\n",
    "2. worst case scenario (Big O): it is the scenario when the algorithm takes maximum amount of time to execute\n",
    "3. average case scenario (Theta): it is the scenario when the algorithm takes average amount of time to execute\n",
    "\n",
    "usually we take the worst case scenario for describing the time complixity"
   ]
  },
  {
   "cell_type": "code",
   "execution_count": null,
   "id": "9ebe2ede",
   "metadata": {},
   "outputs": [],
   "source": [
    "#searching for a num in list\n",
    "lst=[6,9,0,6,5,4,7]\n",
    "#best case scenario\n",
    "num=6\n",
    "#worst case scenario\n",
    "num = 7\n",
    "#average case scenario\n",
    "num = 6"
   ]
  },
  {
   "cell_type": "code",
   "execution_count": null,
   "id": "3f196fcb",
   "metadata": {},
   "outputs": [],
   "source": [
    "#big O notation\n",
    "O(1) -->> constant time\n",
    "\n",
    "O(N)-->>linear time(time is directly proportional to the size)\n",
    "\n",
    "O(logN)-->>lograthmic time\n",
    "(2-point)(binarry)(sorting)-- each step every input decreses(or step was decreses)\n",
    "\n",
    "O(NlogN)-->>linear lograthmic time(quasilinear time)\n",
    "(merge,sort)\n",
    "\n",
    "O(n^2)--->> quadratic time(quardratic time)\n",
    "\n",
    "O(2^n)--->> exponential time"
   ]
  },
  {
   "cell_type": "code",
   "execution_count": 15,
   "id": "87e72058",
   "metadata": {},
   "outputs": [
    {
     "name": "stdout",
     "output_type": "stream",
     "text": [
      "write your namsneha\n",
      "hi sneha\n"
     ]
    }
   ],
   "source": [
    "#constant time\n",
    "\n",
    "name = input(\"write your nam\")\n",
    "print(\"hi\",name)"
   ]
  },
  {
   "cell_type": "code",
   "execution_count": null,
   "id": "e94cf1ac",
   "metadata": {},
   "outputs": [],
   "source": [
    "a=int(input(\"enter first number\"))\n",
    "b = int(input(\"enter seconf num\"))\n",
    "\n",
    "if a>b:\n",
    "    print(a)\n",
    "else:\n",
    "    print(b)"
   ]
  },
  {
   "cell_type": "code",
   "execution_count": null,
   "id": "c680934e",
   "metadata": {},
   "outputs": [],
   "source": [
    "#logarithmic time\n",
    "\n",
    "for i in range(1,10):\n",
    "    print(i)"
   ]
  },
  {
   "cell_type": "code",
   "execution_count": null,
   "id": "2d3387e5",
   "metadata": {},
   "outputs": [],
   "source": [
    "l=[1,2,3,4,5,6,7,8,9]\n",
    "n=9\n",
    "l1=[1,2,3,4,5]\n",
    "l2 =[6,7,8,9,10]\n",
    "\n",
    "l2(1)=[6,7,8]\n",
    "l2 (2)=[9,10]\n"
   ]
  },
  {
   "cell_type": "code",
   "execution_count": null,
   "id": "a7455c06",
   "metadata": {},
   "outputs": [],
   "source": [
    "#linear\n",
    "n=int(input(\"enter a number\"))\n",
    "for i in range(n):\n",
    "    print(i)"
   ]
  },
  {
   "cell_type": "code",
   "execution_count": 16,
   "id": "508cf7a1",
   "metadata": {},
   "outputs": [
    {
     "name": "stdout",
     "output_type": "stream",
     "text": [
      "1 2 3\n",
      "1\n",
      "2\n",
      "3\n"
     ]
    }
   ],
   "source": [
    "l=input().split()\n",
    "for i in l:\n",
    "    print(i)"
   ]
  },
  {
   "cell_type": "code",
   "execution_count": null,
   "id": "0f2d0dd2",
   "metadata": {},
   "outputs": [],
   "source": [
    "#Quasilinear time\n",
    "\n",
    "lst1=[2,4,5,6]\n",
    "lst2=[1,2,3,5,6,8]\n",
    "for i in lst1:\n",
    "    for j in lst2:\n",
    "        if i==j\n",
    "        print(i,\"found\")"
   ]
  },
  {
   "cell_type": "code",
   "execution_count": 4,
   "id": "318e121a",
   "metadata": {},
   "outputs": [
    {
     "name": "stdout",
     "output_type": "stream",
     "text": [
      "1 1\n",
      "1 2\n",
      "1 3\n",
      "1 4\n",
      "1 5\n",
      "2 1\n",
      "2 2\n",
      "2 3\n",
      "2 4\n",
      "2 5\n",
      "3 1\n",
      "3 2\n",
      "3 3\n",
      "3 4\n",
      "3 5\n",
      "4 1\n",
      "4 2\n",
      "4 3\n",
      "4 4\n",
      "4 5\n",
      "5 1\n",
      "5 2\n",
      "5 3\n",
      "5 4\n",
      "5 5\n"
     ]
    }
   ],
   "source": [
    "#Quadratic time\n",
    "#O(N^2)\n",
    "l=[1,2,3,4,5]\n",
    "\n",
    "for i in l:\n",
    "    for j in l:\n",
    "        print(i,j)\n"
   ]
  },
  {
   "cell_type": "code",
   "execution_count": 17,
   "id": "9bf51db3",
   "metadata": {},
   "outputs": [
    {
     "name": "stdout",
     "output_type": "stream",
     "text": [
      "[(1, 1), (1, 2), (1, 3), (1, 4), (1, 5)]\n",
      "[(2, 1), (2, 2), (2, 3), (2, 4), (2, 5)]\n",
      "[(3, 1), (3, 2), (3, 3), (3, 4), (3, 5)]\n",
      "[(4, 1), (4, 2), (4, 3), (4, 4), (4, 5)]\n",
      "[(5, 1), (5, 2), (5, 3), (5, 4), (5, 5)]\n"
     ]
    }
   ],
   "source": [
    "lst1 =[1,2,3,4,5]\n",
    "for i in lst1:\n",
    "    lst=[]\n",
    "    for  j in lst1:\n",
    "        lst.append((i,j))\n",
    "        \n",
    "    print(lst)"
   ]
  },
  {
   "cell_type": "code",
   "execution_count": 24,
   "id": "d94612fc",
   "metadata": {},
   "outputs": [
    {
     "name": "stdout",
     "output_type": "stream",
     "text": [
      "5 ----- 120\n",
      "6 ----- 720\n",
      "7 ----- 5040\n",
      "8 ----- 40320\n",
      "9 ----- 362880\n",
      "10 ----- 3628800\n",
      "11 ----- 39916800\n",
      "12 ----- 479001600\n",
      "13 ----- 6227020800\n",
      "14 ----- 87178291200\n",
      "15 ----- 1307674368000\n",
      "16 ----- 20922789888000\n",
      "17 ----- 355687428096000\n",
      "18 ----- 6402373705728000\n",
      "19 ----- 121645100408832000\n"
     ]
    }
   ],
   "source": [
    "#factorial time\n",
    "for  j in range(5,20):\n",
    "    product = 1\n",
    "    for i in range(1,j+1):\n",
    "        product *=i\n",
    "    print(j,\"-----\",product)\n",
    "        "
   ]
  },
  {
   "cell_type": "code",
   "execution_count": 23,
   "id": "e3fe6acf",
   "metadata": {},
   "outputs": [
    {
     "name": "stdout",
     "output_type": "stream",
     "text": [
      "0 1 1 2 3 5 8 13 21 34 "
     ]
    }
   ],
   "source": [
    "#exponential time\n",
    "a,b=0,1\n",
    "print(a,end=\" \")\n",
    "while b<=50:\n",
    "    print(b,end=\" \")\n",
    "    a,b= b,a+b"
   ]
  },
  {
   "cell_type": "code",
   "execution_count": 25,
   "id": "51314859",
   "metadata": {},
   "outputs": [
    {
     "name": "stdout",
     "output_type": "stream",
     "text": [
      "5\n",
      "4\n",
      "3\n",
      "2\n",
      "1\n",
      "0\n",
      "1\n",
      "2\n",
      "1\n",
      "0\n",
      "3\n",
      "2\n",
      "1\n",
      "0\n",
      "1\n"
     ]
    }
   ],
   "source": [
    "def fibo(n):\n",
    "    print(n)\n",
    "    if n<=1:\n",
    "        return n\n",
    "    else:\n",
    "        return fibo(n-1) +fibo(n-2)\n",
    "f=fibo(5)"
   ]
  },
  {
   "cell_type": "code",
   "execution_count": null,
   "id": "0dd76949",
   "metadata": {},
   "outputs": [],
   "source": [
    "data-structures        insertion              search             deletion\n",
    "\n",
    "Array                  O(1) {end}             O(n)              O(n)  {beginning}  \n",
    "                       O(n) {beginning}                         O(1)  {end}    \n",
    "    \n",
    "    \n",
    "stack                  O(1)                     O(n)              O(1)                    \n",
    "queue                  O(1)                     O(n)              O(n) {array}\n",
    "                                                                  O(1) {lined list}\n",
    "    \n",
    "linked list            at begin O(1)            O(n)              O(n)\n",
    "                       at end 0(n)"
   ]
  },
  {
   "cell_type": "code",
   "execution_count": null,
   "id": "3e6fa0b5",
   "metadata": {},
   "outputs": [],
   "source": [
    "Here are the time complexities for various operations in common data structures:\n",
    "\n",
    "**Array**:\n",
    "- Insertion at the end: O(1) - constant time (assuming the array has available space)\n",
    "- Insertion at a specific index (with shifting): O(n) - linear time (as it requires shifting elements to\n",
    "                                                                     make room for the new element)\n",
    "- Search: O(n) - linear time (as it may require traversing the entire array)\n",
    "- Deletion at a specific index (with shifting): O(n) - linear time (as it requires shifting elements after the deletion point)\n",
    "\n",
    "**Stack**:\n",
    "- Push (insertion): O(1) - constant time\n",
    "- Pop (deletion): O(1) - constant time\n",
    "- Peek (access the top element): O(1) - constant time\n",
    "- Search: O(n) - linear time (as it may require traversing the entire stack)\n",
    "\n",
    "**Queue**:\n",
    "- Enqueue (insertion): O(1) - constant time\n",
    "- Dequeue (deletion): O(1) - constant time\n",
    "- Front (access the front element): O(1) - constant time\n",
    "- Rear (access the rear element): O(1) - constant time\n",
    "- Search: O(n) - linear time (as it may require traversing the entire queue)\n",
    "\n",
    "**Linked List**:\n",
    "- Insertion at the beginning: O(1) - constant time\n",
    "- Insertion at the end: O(n) - linear time (as it requires traversing the list to reach the end)\n",
    "- Insertion at a specific position: O(n) - linear time (as it requires traversing the list to reach the insertion point)\n",
    "- Search: O(n) - linear time (as it may require traversing the entire list)\n",
    "- Deletion at the beginning: O(1) - constant time\n",
    "- Deletion at the end: O(n) - linear time (as it requires traversing the list to reach the end)\n",
    "- Deletion at a specific position: O(n) - linear time (as it requires traversing the list to reach the deletion point)\n",
    "\n",
    "It's important to note that these time complexities are general cases and can vary depending on the specific implementation \n",
    "or optimizations used."
   ]
  },
  {
   "cell_type": "markdown",
   "id": "acd96651",
   "metadata": {},
   "source": [
    "# space complexicity\n",
    "\n",
    "the amount of memory taken for execution of an alogorithm"
   ]
  },
  {
   "cell_type": "code",
   "execution_count": null,
   "id": "f4ec3a88",
   "metadata": {},
   "outputs": [],
   "source": [
    "O(1) -->> constant space\n",
    "(a=10 )\n",
    "\n",
    "O(N)-->>linear space\n",
    "\n",
    "O(logN)-->>lograthmic space\n",
    "\n",
    "\n",
    "O(NlogN)-->>linear lograthmic space\n",
    "\n",
    "O(n^2)--->> quadratic space"
   ]
  },
  {
   "cell_type": "code",
   "execution_count": 8,
   "id": "20726c85",
   "metadata": {},
   "outputs": [
    {
     "name": "stdout",
     "output_type": "stream",
     "text": [
      "[2, 3, 4, 5, 6]\n"
     ]
    }
   ],
   "source": [
    "#space ocillasion\n",
    "\n",
    "l=[2,3,4,5,6,2]\n",
    "k=[]\n",
    "\n",
    "for i in l:\n",
    "    if i not in k:\n",
    "        k.append(i)\n",
    "        \n",
    "print(k)"
   ]
  },
  {
   "cell_type": "code",
   "execution_count": 10,
   "id": "00615be5",
   "metadata": {},
   "outputs": [
    {
     "name": "stdout",
     "output_type": "stream",
     "text": [
      "[1, 2, 3, 4, 5, 6, 7, 8, 9, 10]\n"
     ]
    }
   ],
   "source": [
    "l=10 #(o(1))\n",
    "k=[]\n",
    "for i in range(1,l+1):\n",
    "    k.append(i)\n",
    "print(k)"
   ]
  },
  {
   "cell_type": "code",
   "execution_count": null,
   "id": "6ed5c705",
   "metadata": {},
   "outputs": [],
   "source": []
  }
 ],
 "metadata": {
  "kernelspec": {
   "display_name": "Python 3 (ipykernel)",
   "language": "python",
   "name": "python3"
  },
  "language_info": {
   "codemirror_mode": {
    "name": "ipython",
    "version": 3
   },
   "file_extension": ".py",
   "mimetype": "text/x-python",
   "name": "python",
   "nbconvert_exporter": "python",
   "pygments_lexer": "ipython3",
   "version": "3.10.9"
  }
 },
 "nbformat": 4,
 "nbformat_minor": 5
}
